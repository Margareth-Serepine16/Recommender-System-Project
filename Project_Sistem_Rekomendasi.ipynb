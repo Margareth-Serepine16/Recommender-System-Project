{
  "nbformat": 4,
  "nbformat_minor": 0,
  "metadata": {
    "colab": {
      "provenance": []
    },
    "kernelspec": {
      "name": "python3",
      "display_name": "Python 3"
    },
    "language_info": {
      "name": "python"
    }
  },
  "cells": [
    {
      "cell_type": "markdown",
      "source": [
        "# **Proyek Sistem Rekomendasi**"
      ],
      "metadata": {
        "id": "AlQPYDXRBnqQ"
      }
    },
    {
      "cell_type": "markdown",
      "source": [
        "- Nama : Margareth Serepine S\n",
        "- Cohort ID : MC319D5X0736\n",
        "- Email : margareths4167@gmail.com\n"
      ],
      "metadata": {
        "id": "mpD3VP5bB1kx"
      }
    },
    {
      "cell_type": "markdown",
      "source": [
        "# **Project Overview**"
      ],
      "metadata": {
        "id": "Qk85ona3Ba1L"
      }
    },
    {
      "cell_type": "markdown",
      "source": [
        "Pandemi Covid-19 pada tahun 2021 memicu lonjakan besar dalam penggunaan MOOC (Massive Open Online Courses). Dengan melimpahnya kursus online dari berbagai institusi dan platform, banyak pelajar mengalami kesulitan dalam menghadapi tantangan dalam menemukan kursus yang paling sesuai dengan kebutuhan dan tingkat keterampilan mereka. <br>\n",
        "\n",
        "Oleh karena itu, penerapan sistem rekomendasi berbasis machine learning dalam konteks pendidikan daring tidak hanya relevan, tetapi juga sangat krusial untuk meningkatkan efektivitas pembelajaran, retensi pengguna, dan keberhasilan penyelesaian kursus. Sistem rekomendasi ini akan membantu pengguna memilih kursus dengan cara yang lebih personal dan efisien, terutama berdasarkan informasi deskripsi kursus, keterampilan, dan tingkat kesulitan.\n",
        "\n"
      ],
      "metadata": {
        "id": "yE22vfemC3_9"
      }
    },
    {
      "cell_type": "markdown",
      "source": [
        "# **Import Library**"
      ],
      "metadata": {
        "id": "Sor2mNulCz78"
      }
    },
    {
      "cell_type": "markdown",
      "source": [
        "Pada bagian ini, dilakukan proses import berbagai library dan modul yang digunakan. Berikut penjelasan masing-masing library dan fungsinya:\n",
        "- `numpy as np`: Library fundamental untuk komputasi numerik di Python. Sering digunakan untuk operasi matematis, manipulasi array, dan perhitungan vektor/matriks.\n",
        "- `matplotlib.pyplot as plt`: Library untuk visualisasi data dalam bentuk grafik. Digunakan untuk membuat plot seperti garis, batang, histogram, dan scatter plot.\n",
        "- `pandas as pd`: Library populer untuk manipulasi dan analisis data berbasis tabel (DataFrame). Digunakan untuk membaca, menulis, dan memproses data terstruktur.\n",
        "- `seaborn as sns`: Library visualisasi yang dibangun di atas matplotlib, lebih khusus untuk visualisasi statistik yang lebih estetis dan informatif.\n",
        "- `os`: Digunakan untuk berinteraksi dengan sistem file dan environment.\n",
        "- `re`: Modul untuk ekspresi reguler, berguna dalam pencocokan dan pemrosesan string.\n",
        "- `shutil`: Digunakan untuk operasi file tingkat tinggi, seperti copy, move, dan delete file atau folder.\n",
        "- `kagglehub`: Modul ini digunakan untuk mengakses model atau data dari Kaggle Hub, platform distribusi model dan dataset dari komunitas Kaggle (biasanya digunakan untuk mendownload model siap pakai).\n",
        "- `collections.Counter`: Digunakan untuk menghitung frekuensi elemen dalam iterable, seperti menghitung kemunculan kata atau label.\n",
        "- `sklearn.impute.SimpleImputer`: Modul dari Scikit-learn yang digunakan untuk menangani missing value (nilai kosong) dengan strategi seperti mean, median, atau modus.\n",
        "- `sklearn.metrics.pairwise.cosine_similarity`: Fungsi untuk menghitung kemiripan kosinus antar vektor, biasa digunakan dalam sistem rekomendasi berbasis konten untuk mengukur kemiripan antar item atau dokumen.\n",
        "- `sklearn.feature_extraction.text.TfidfVectorizer`: Digunakan untuk mengubah kumpulan teks menjadi representasi numerik berbasis TF-IDF (Term Frequency-Inverse Document Frequency), yang mencerminkan pentingnya kata dalam dokumen relatif terhadap kumpulan dokumen."
      ],
      "metadata": {
        "id": "FSDWx7H_Cz4j"
      }
    },
    {
      "cell_type": "code",
      "source": [
        "import numpy as np\n",
        "import matplotlib.pyplot as plt\n",
        "import pandas as pd\n",
        "import seaborn as sns\n",
        "import os, re, shutil, kagglehub\n",
        "\n",
        "from collections import Counter\n",
        "from sklearn.impute import SimpleImputer\n",
        "from sklearn.metrics.pairwise import cosine_similarity\n",
        "from sklearn.feature_extraction.text import TfidfVectorizer"
      ],
      "metadata": {
        "id": "WC2xzJnYA1PC"
      },
      "execution_count": 1,
      "outputs": []
    },
    {
      "cell_type": "markdown",
      "source": [
        "# **Load Data**"
      ],
      "metadata": {
        "id": "IuJHEe2sDAok"
      }
    },
    {
      "cell_type": "markdown",
      "source": [
        "Mengunduh Dataset dari Kaggle Hub menggunakan pustaka `kagglehub`."
      ],
      "metadata": {
        "id": "onctmElSOAAz"
      }
    },
    {
      "cell_type": "code",
      "execution_count": 2,
      "metadata": {
        "colab": {
          "base_uri": "https://localhost:8080/"
        },
        "id": "0PqQ6J9O6guK",
        "outputId": "9a309253-1817-4c38-88e2-fdf82163e302"
      },
      "outputs": [
        {
          "output_type": "stream",
          "name": "stdout",
          "text": [
            "Downloading from https://www.kaggle.com/api/v1/datasets/download/khusheekapoor/coursera-courses-dataset-2021?dataset_version_number=1...\n"
          ]
        },
        {
          "output_type": "stream",
          "name": "stderr",
          "text": [
            "100%|██████████| 1.65M/1.65M [00:00<00:00, 25.1MB/s]"
          ]
        },
        {
          "output_type": "stream",
          "name": "stdout",
          "text": [
            "Extracting files...\n"
          ]
        },
        {
          "output_type": "stream",
          "name": "stderr",
          "text": [
            "\n"
          ]
        },
        {
          "output_type": "stream",
          "name": "stdout",
          "text": [
            "Path to dataset files: /root/.cache/kagglehub/datasets/khusheekapoor/coursera-courses-dataset-2021/versions/1\n"
          ]
        }
      ],
      "source": [
        "path = kagglehub.dataset_download(\"khusheekapoor/coursera-courses-dataset-2021\")\n",
        "\n",
        "print(\"Path to dataset files:\", path)"
      ]
    },
    {
      "cell_type": "code",
      "source": [
        "path"
      ],
      "metadata": {
        "colab": {
          "base_uri": "https://localhost:8080/",
          "height": 36
        },
        "id": "Cbb1WHWX_FkM",
        "outputId": "c9136a75-0735-4185-d2a6-9cd388063e99"
      },
      "execution_count": 3,
      "outputs": [
        {
          "output_type": "execute_result",
          "data": {
            "text/plain": [
              "'/root/.cache/kagglehub/datasets/khusheekapoor/coursera-courses-dataset-2021/versions/1'"
            ],
            "application/vnd.google.colaboratory.intrinsic+json": {
              "type": "string"
            }
          },
          "metadata": {},
          "execution_count": 3
        }
      ]
    },
    {
      "cell_type": "code",
      "source": [
        "path = ''.join([path, '/', os.listdir(path)[0]])\n",
        "path"
      ],
      "metadata": {
        "colab": {
          "base_uri": "https://localhost:8080/",
          "height": 36
        },
        "id": "TamhjxBq_GFy",
        "outputId": "1f1f051e-2f02-4b54-81b6-c14e9174815d"
      },
      "execution_count": 4,
      "outputs": [
        {
          "output_type": "execute_result",
          "data": {
            "text/plain": [
              "'/root/.cache/kagglehub/datasets/khusheekapoor/coursera-courses-dataset-2021/versions/1/Coursera.csv'"
            ],
            "application/vnd.google.colaboratory.intrinsic+json": {
              "type": "string"
            }
          },
          "metadata": {},
          "execution_count": 4
        }
      ]
    },
    {
      "cell_type": "markdown",
      "source": [
        "Setelah dataset berhasil diunduh, langkah selanjutnya adalah menentukan path lengkap menuju folder yang berisi file dataset.\n"
      ],
      "metadata": {
        "id": "J-XQxln8OQ1k"
      }
    },
    {
      "cell_type": "code",
      "source": [
        "df = pd.read_csv(path)\n",
        "df"
      ],
      "metadata": {
        "colab": {
          "base_uri": "https://localhost:8080/",
          "height": 701
        },
        "id": "7p7HXlR3_OKF",
        "outputId": "10715260-7352-4ab3-9248-8ee81f1ff651"
      },
      "execution_count": 5,
      "outputs": [
        {
          "output_type": "execute_result",
          "data": {
            "text/plain": [
              "                                            Course Name  \\\n",
              "0     Write A Feature Length Screenplay For Film Or ...   \n",
              "1     Business Strategy: Business Model Canvas Analy...   \n",
              "2                         Silicon Thin Film Solar Cells   \n",
              "3                                  Finance for Managers   \n",
              "4          Retrieve Data using Single-Table SQL Queries   \n",
              "...                                                 ...   \n",
              "3517  Capstone: Retrieving, Processing, and Visualiz...   \n",
              "3518                   Patrick Henry: Forgotten Founder   \n",
              "3519  Business intelligence and data analytics: Gene...   \n",
              "3520                                Rigid Body Dynamics   \n",
              "3521  Architecting with Google Kubernetes Engine: Pr...   \n",
              "\n",
              "                                             University Difficulty Level  \\\n",
              "0                             Michigan State University         Beginner   \n",
              "1                              Coursera Project Network         Beginner   \n",
              "2                                   �cole Polytechnique         Advanced   \n",
              "3                                  IESE Business School     Intermediate   \n",
              "4                              Coursera Project Network         Beginner   \n",
              "...                                                 ...              ...   \n",
              "3517                             University of Michigan         Beginner   \n",
              "3518                             University of Virginia     Intermediate   \n",
              "3519                               Macquarie University         Advanced   \n",
              "3520  Korea Advanced Institute of Science and Techno...         Beginner   \n",
              "3521                                       Google Cloud     Intermediate   \n",
              "\n",
              "     Course Rating                                         Course URL  \\\n",
              "0              4.8  https://www.coursera.org/learn/write-a-feature...   \n",
              "1              4.8  https://www.coursera.org/learn/canvas-analysis...   \n",
              "2              4.1  https://www.coursera.org/learn/silicon-thin-fi...   \n",
              "3              4.8  https://www.coursera.org/learn/operational-fin...   \n",
              "4              4.6  https://www.coursera.org/learn/single-table-sq...   \n",
              "...            ...                                                ...   \n",
              "3517           4.6  https://www.coursera.org/learn/python-data-vis...   \n",
              "3518           4.9               https://www.coursera.org/learn/henry   \n",
              "3519           4.6  https://www.coursera.org/learn/business-intell...   \n",
              "3520           4.6  https://www.coursera.org/learn/rigid-body-dyna...   \n",
              "3521           4.7  https://www.coursera.org/learn/deploying-secur...   \n",
              "\n",
              "                                     Course Description  \\\n",
              "0     Write a Full Length Feature Film Script  In th...   \n",
              "1     By the end of this guided project, you will be...   \n",
              "2     This course consists of a general presentation...   \n",
              "3     When it comes to numbers, there is always more...   \n",
              "4     In this course you�ll learn how to effectively...   \n",
              "...                                                 ...   \n",
              "3517  In the capstone, students will build a series ...   \n",
              "3518  �Give me liberty, or give me death:� Rememberi...   \n",
              "3519  �Megatrends� heavily influence today�s organis...   \n",
              "3520  This course teaches dynamics, one of the basic...   \n",
              "3521  In this course, \"Architecting with Google Kube...   \n",
              "\n",
              "                                                 Skills  \n",
              "0     Drama  Comedy  peering  screenwriting  film  D...  \n",
              "1     Finance  business plan  persona (user experien...  \n",
              "2     chemistry  physics  Solar Energy  film  lambda...  \n",
              "3     accounts receivable  dupont analysis  analysis...  \n",
              "4     Data Analysis  select (sql)  database manageme...  \n",
              "...                                                 ...  \n",
              "3517  Databases  syntax  analysis  web  Data Visuali...  \n",
              "3518  retirement  Causality  career  history of the ...  \n",
              "3519  analytics  tableau software  Business Intellig...  \n",
              "3520  Angular  Mechanical Design  fluid mechanics  F...  \n",
              "3521  bigtable  bigquery  SQL  Google Cloud Platform...  \n",
              "\n",
              "[3522 rows x 7 columns]"
            ],
            "text/html": [
              "\n",
              "  <div id=\"df-6afbe0a8-5072-4453-ac2a-a4368450b8cc\" class=\"colab-df-container\">\n",
              "    <div>\n",
              "<style scoped>\n",
              "    .dataframe tbody tr th:only-of-type {\n",
              "        vertical-align: middle;\n",
              "    }\n",
              "\n",
              "    .dataframe tbody tr th {\n",
              "        vertical-align: top;\n",
              "    }\n",
              "\n",
              "    .dataframe thead th {\n",
              "        text-align: right;\n",
              "    }\n",
              "</style>\n",
              "<table border=\"1\" class=\"dataframe\">\n",
              "  <thead>\n",
              "    <tr style=\"text-align: right;\">\n",
              "      <th></th>\n",
              "      <th>Course Name</th>\n",
              "      <th>University</th>\n",
              "      <th>Difficulty Level</th>\n",
              "      <th>Course Rating</th>\n",
              "      <th>Course URL</th>\n",
              "      <th>Course Description</th>\n",
              "      <th>Skills</th>\n",
              "    </tr>\n",
              "  </thead>\n",
              "  <tbody>\n",
              "    <tr>\n",
              "      <th>0</th>\n",
              "      <td>Write A Feature Length Screenplay For Film Or ...</td>\n",
              "      <td>Michigan State University</td>\n",
              "      <td>Beginner</td>\n",
              "      <td>4.8</td>\n",
              "      <td>https://www.coursera.org/learn/write-a-feature...</td>\n",
              "      <td>Write a Full Length Feature Film Script  In th...</td>\n",
              "      <td>Drama  Comedy  peering  screenwriting  film  D...</td>\n",
              "    </tr>\n",
              "    <tr>\n",
              "      <th>1</th>\n",
              "      <td>Business Strategy: Business Model Canvas Analy...</td>\n",
              "      <td>Coursera Project Network</td>\n",
              "      <td>Beginner</td>\n",
              "      <td>4.8</td>\n",
              "      <td>https://www.coursera.org/learn/canvas-analysis...</td>\n",
              "      <td>By the end of this guided project, you will be...</td>\n",
              "      <td>Finance  business plan  persona (user experien...</td>\n",
              "    </tr>\n",
              "    <tr>\n",
              "      <th>2</th>\n",
              "      <td>Silicon Thin Film Solar Cells</td>\n",
              "      <td>�cole Polytechnique</td>\n",
              "      <td>Advanced</td>\n",
              "      <td>4.1</td>\n",
              "      <td>https://www.coursera.org/learn/silicon-thin-fi...</td>\n",
              "      <td>This course consists of a general presentation...</td>\n",
              "      <td>chemistry  physics  Solar Energy  film  lambda...</td>\n",
              "    </tr>\n",
              "    <tr>\n",
              "      <th>3</th>\n",
              "      <td>Finance for Managers</td>\n",
              "      <td>IESE Business School</td>\n",
              "      <td>Intermediate</td>\n",
              "      <td>4.8</td>\n",
              "      <td>https://www.coursera.org/learn/operational-fin...</td>\n",
              "      <td>When it comes to numbers, there is always more...</td>\n",
              "      <td>accounts receivable  dupont analysis  analysis...</td>\n",
              "    </tr>\n",
              "    <tr>\n",
              "      <th>4</th>\n",
              "      <td>Retrieve Data using Single-Table SQL Queries</td>\n",
              "      <td>Coursera Project Network</td>\n",
              "      <td>Beginner</td>\n",
              "      <td>4.6</td>\n",
              "      <td>https://www.coursera.org/learn/single-table-sq...</td>\n",
              "      <td>In this course you�ll learn how to effectively...</td>\n",
              "      <td>Data Analysis  select (sql)  database manageme...</td>\n",
              "    </tr>\n",
              "    <tr>\n",
              "      <th>...</th>\n",
              "      <td>...</td>\n",
              "      <td>...</td>\n",
              "      <td>...</td>\n",
              "      <td>...</td>\n",
              "      <td>...</td>\n",
              "      <td>...</td>\n",
              "      <td>...</td>\n",
              "    </tr>\n",
              "    <tr>\n",
              "      <th>3517</th>\n",
              "      <td>Capstone: Retrieving, Processing, and Visualiz...</td>\n",
              "      <td>University of Michigan</td>\n",
              "      <td>Beginner</td>\n",
              "      <td>4.6</td>\n",
              "      <td>https://www.coursera.org/learn/python-data-vis...</td>\n",
              "      <td>In the capstone, students will build a series ...</td>\n",
              "      <td>Databases  syntax  analysis  web  Data Visuali...</td>\n",
              "    </tr>\n",
              "    <tr>\n",
              "      <th>3518</th>\n",
              "      <td>Patrick Henry: Forgotten Founder</td>\n",
              "      <td>University of Virginia</td>\n",
              "      <td>Intermediate</td>\n",
              "      <td>4.9</td>\n",
              "      <td>https://www.coursera.org/learn/henry</td>\n",
              "      <td>�Give me liberty, or give me death:� Rememberi...</td>\n",
              "      <td>retirement  Causality  career  history of the ...</td>\n",
              "    </tr>\n",
              "    <tr>\n",
              "      <th>3519</th>\n",
              "      <td>Business intelligence and data analytics: Gene...</td>\n",
              "      <td>Macquarie University</td>\n",
              "      <td>Advanced</td>\n",
              "      <td>4.6</td>\n",
              "      <td>https://www.coursera.org/learn/business-intell...</td>\n",
              "      <td>�Megatrends� heavily influence today�s organis...</td>\n",
              "      <td>analytics  tableau software  Business Intellig...</td>\n",
              "    </tr>\n",
              "    <tr>\n",
              "      <th>3520</th>\n",
              "      <td>Rigid Body Dynamics</td>\n",
              "      <td>Korea Advanced Institute of Science and Techno...</td>\n",
              "      <td>Beginner</td>\n",
              "      <td>4.6</td>\n",
              "      <td>https://www.coursera.org/learn/rigid-body-dyna...</td>\n",
              "      <td>This course teaches dynamics, one of the basic...</td>\n",
              "      <td>Angular  Mechanical Design  fluid mechanics  F...</td>\n",
              "    </tr>\n",
              "    <tr>\n",
              "      <th>3521</th>\n",
              "      <td>Architecting with Google Kubernetes Engine: Pr...</td>\n",
              "      <td>Google Cloud</td>\n",
              "      <td>Intermediate</td>\n",
              "      <td>4.7</td>\n",
              "      <td>https://www.coursera.org/learn/deploying-secur...</td>\n",
              "      <td>In this course, \"Architecting with Google Kube...</td>\n",
              "      <td>bigtable  bigquery  SQL  Google Cloud Platform...</td>\n",
              "    </tr>\n",
              "  </tbody>\n",
              "</table>\n",
              "<p>3522 rows × 7 columns</p>\n",
              "</div>\n",
              "    <div class=\"colab-df-buttons\">\n",
              "\n",
              "  <div class=\"colab-df-container\">\n",
              "    <button class=\"colab-df-convert\" onclick=\"convertToInteractive('df-6afbe0a8-5072-4453-ac2a-a4368450b8cc')\"\n",
              "            title=\"Convert this dataframe to an interactive table.\"\n",
              "            style=\"display:none;\">\n",
              "\n",
              "  <svg xmlns=\"http://www.w3.org/2000/svg\" height=\"24px\" viewBox=\"0 -960 960 960\">\n",
              "    <path d=\"M120-120v-720h720v720H120Zm60-500h600v-160H180v160Zm220 220h160v-160H400v160Zm0 220h160v-160H400v160ZM180-400h160v-160H180v160Zm440 0h160v-160H620v160ZM180-180h160v-160H180v160Zm440 0h160v-160H620v160Z\"/>\n",
              "  </svg>\n",
              "    </button>\n",
              "\n",
              "  <style>\n",
              "    .colab-df-container {\n",
              "      display:flex;\n",
              "      gap: 12px;\n",
              "    }\n",
              "\n",
              "    .colab-df-convert {\n",
              "      background-color: #E8F0FE;\n",
              "      border: none;\n",
              "      border-radius: 50%;\n",
              "      cursor: pointer;\n",
              "      display: none;\n",
              "      fill: #1967D2;\n",
              "      height: 32px;\n",
              "      padding: 0 0 0 0;\n",
              "      width: 32px;\n",
              "    }\n",
              "\n",
              "    .colab-df-convert:hover {\n",
              "      background-color: #E2EBFA;\n",
              "      box-shadow: 0px 1px 2px rgba(60, 64, 67, 0.3), 0px 1px 3px 1px rgba(60, 64, 67, 0.15);\n",
              "      fill: #174EA6;\n",
              "    }\n",
              "\n",
              "    .colab-df-buttons div {\n",
              "      margin-bottom: 4px;\n",
              "    }\n",
              "\n",
              "    [theme=dark] .colab-df-convert {\n",
              "      background-color: #3B4455;\n",
              "      fill: #D2E3FC;\n",
              "    }\n",
              "\n",
              "    [theme=dark] .colab-df-convert:hover {\n",
              "      background-color: #434B5C;\n",
              "      box-shadow: 0px 1px 3px 1px rgba(0, 0, 0, 0.15);\n",
              "      filter: drop-shadow(0px 1px 2px rgba(0, 0, 0, 0.3));\n",
              "      fill: #FFFFFF;\n",
              "    }\n",
              "  </style>\n",
              "\n",
              "    <script>\n",
              "      const buttonEl =\n",
              "        document.querySelector('#df-6afbe0a8-5072-4453-ac2a-a4368450b8cc button.colab-df-convert');\n",
              "      buttonEl.style.display =\n",
              "        google.colab.kernel.accessAllowed ? 'block' : 'none';\n",
              "\n",
              "      async function convertToInteractive(key) {\n",
              "        const element = document.querySelector('#df-6afbe0a8-5072-4453-ac2a-a4368450b8cc');\n",
              "        const dataTable =\n",
              "          await google.colab.kernel.invokeFunction('convertToInteractive',\n",
              "                                                    [key], {});\n",
              "        if (!dataTable) return;\n",
              "\n",
              "        const docLinkHtml = 'Like what you see? Visit the ' +\n",
              "          '<a target=\"_blank\" href=https://colab.research.google.com/notebooks/data_table.ipynb>data table notebook</a>'\n",
              "          + ' to learn more about interactive tables.';\n",
              "        element.innerHTML = '';\n",
              "        dataTable['output_type'] = 'display_data';\n",
              "        await google.colab.output.renderOutput(dataTable, element);\n",
              "        const docLink = document.createElement('div');\n",
              "        docLink.innerHTML = docLinkHtml;\n",
              "        element.appendChild(docLink);\n",
              "      }\n",
              "    </script>\n",
              "  </div>\n",
              "\n",
              "\n",
              "    <div id=\"df-d8f7676b-9fe3-468c-82d9-a41d43fc099f\">\n",
              "      <button class=\"colab-df-quickchart\" onclick=\"quickchart('df-d8f7676b-9fe3-468c-82d9-a41d43fc099f')\"\n",
              "                title=\"Suggest charts\"\n",
              "                style=\"display:none;\">\n",
              "\n",
              "<svg xmlns=\"http://www.w3.org/2000/svg\" height=\"24px\"viewBox=\"0 0 24 24\"\n",
              "     width=\"24px\">\n",
              "    <g>\n",
              "        <path d=\"M19 3H5c-1.1 0-2 .9-2 2v14c0 1.1.9 2 2 2h14c1.1 0 2-.9 2-2V5c0-1.1-.9-2-2-2zM9 17H7v-7h2v7zm4 0h-2V7h2v10zm4 0h-2v-4h2v4z\"/>\n",
              "    </g>\n",
              "</svg>\n",
              "      </button>\n",
              "\n",
              "<style>\n",
              "  .colab-df-quickchart {\n",
              "      --bg-color: #E8F0FE;\n",
              "      --fill-color: #1967D2;\n",
              "      --hover-bg-color: #E2EBFA;\n",
              "      --hover-fill-color: #174EA6;\n",
              "      --disabled-fill-color: #AAA;\n",
              "      --disabled-bg-color: #DDD;\n",
              "  }\n",
              "\n",
              "  [theme=dark] .colab-df-quickchart {\n",
              "      --bg-color: #3B4455;\n",
              "      --fill-color: #D2E3FC;\n",
              "      --hover-bg-color: #434B5C;\n",
              "      --hover-fill-color: #FFFFFF;\n",
              "      --disabled-bg-color: #3B4455;\n",
              "      --disabled-fill-color: #666;\n",
              "  }\n",
              "\n",
              "  .colab-df-quickchart {\n",
              "    background-color: var(--bg-color);\n",
              "    border: none;\n",
              "    border-radius: 50%;\n",
              "    cursor: pointer;\n",
              "    display: none;\n",
              "    fill: var(--fill-color);\n",
              "    height: 32px;\n",
              "    padding: 0;\n",
              "    width: 32px;\n",
              "  }\n",
              "\n",
              "  .colab-df-quickchart:hover {\n",
              "    background-color: var(--hover-bg-color);\n",
              "    box-shadow: 0 1px 2px rgba(60, 64, 67, 0.3), 0 1px 3px 1px rgba(60, 64, 67, 0.15);\n",
              "    fill: var(--button-hover-fill-color);\n",
              "  }\n",
              "\n",
              "  .colab-df-quickchart-complete:disabled,\n",
              "  .colab-df-quickchart-complete:disabled:hover {\n",
              "    background-color: var(--disabled-bg-color);\n",
              "    fill: var(--disabled-fill-color);\n",
              "    box-shadow: none;\n",
              "  }\n",
              "\n",
              "  .colab-df-spinner {\n",
              "    border: 2px solid var(--fill-color);\n",
              "    border-color: transparent;\n",
              "    border-bottom-color: var(--fill-color);\n",
              "    animation:\n",
              "      spin 1s steps(1) infinite;\n",
              "  }\n",
              "\n",
              "  @keyframes spin {\n",
              "    0% {\n",
              "      border-color: transparent;\n",
              "      border-bottom-color: var(--fill-color);\n",
              "      border-left-color: var(--fill-color);\n",
              "    }\n",
              "    20% {\n",
              "      border-color: transparent;\n",
              "      border-left-color: var(--fill-color);\n",
              "      border-top-color: var(--fill-color);\n",
              "    }\n",
              "    30% {\n",
              "      border-color: transparent;\n",
              "      border-left-color: var(--fill-color);\n",
              "      border-top-color: var(--fill-color);\n",
              "      border-right-color: var(--fill-color);\n",
              "    }\n",
              "    40% {\n",
              "      border-color: transparent;\n",
              "      border-right-color: var(--fill-color);\n",
              "      border-top-color: var(--fill-color);\n",
              "    }\n",
              "    60% {\n",
              "      border-color: transparent;\n",
              "      border-right-color: var(--fill-color);\n",
              "    }\n",
              "    80% {\n",
              "      border-color: transparent;\n",
              "      border-right-color: var(--fill-color);\n",
              "      border-bottom-color: var(--fill-color);\n",
              "    }\n",
              "    90% {\n",
              "      border-color: transparent;\n",
              "      border-bottom-color: var(--fill-color);\n",
              "    }\n",
              "  }\n",
              "</style>\n",
              "\n",
              "      <script>\n",
              "        async function quickchart(key) {\n",
              "          const quickchartButtonEl =\n",
              "            document.querySelector('#' + key + ' button');\n",
              "          quickchartButtonEl.disabled = true;  // To prevent multiple clicks.\n",
              "          quickchartButtonEl.classList.add('colab-df-spinner');\n",
              "          try {\n",
              "            const charts = await google.colab.kernel.invokeFunction(\n",
              "                'suggestCharts', [key], {});\n",
              "          } catch (error) {\n",
              "            console.error('Error during call to suggestCharts:', error);\n",
              "          }\n",
              "          quickchartButtonEl.classList.remove('colab-df-spinner');\n",
              "          quickchartButtonEl.classList.add('colab-df-quickchart-complete');\n",
              "        }\n",
              "        (() => {\n",
              "          let quickchartButtonEl =\n",
              "            document.querySelector('#df-d8f7676b-9fe3-468c-82d9-a41d43fc099f button');\n",
              "          quickchartButtonEl.style.display =\n",
              "            google.colab.kernel.accessAllowed ? 'block' : 'none';\n",
              "        })();\n",
              "      </script>\n",
              "    </div>\n",
              "\n",
              "  <div id=\"id_535ac244-34a5-4367-9961-fd491025130b\">\n",
              "    <style>\n",
              "      .colab-df-generate {\n",
              "        background-color: #E8F0FE;\n",
              "        border: none;\n",
              "        border-radius: 50%;\n",
              "        cursor: pointer;\n",
              "        display: none;\n",
              "        fill: #1967D2;\n",
              "        height: 32px;\n",
              "        padding: 0 0 0 0;\n",
              "        width: 32px;\n",
              "      }\n",
              "\n",
              "      .colab-df-generate:hover {\n",
              "        background-color: #E2EBFA;\n",
              "        box-shadow: 0px 1px 2px rgba(60, 64, 67, 0.3), 0px 1px 3px 1px rgba(60, 64, 67, 0.15);\n",
              "        fill: #174EA6;\n",
              "      }\n",
              "\n",
              "      [theme=dark] .colab-df-generate {\n",
              "        background-color: #3B4455;\n",
              "        fill: #D2E3FC;\n",
              "      }\n",
              "\n",
              "      [theme=dark] .colab-df-generate:hover {\n",
              "        background-color: #434B5C;\n",
              "        box-shadow: 0px 1px 3px 1px rgba(0, 0, 0, 0.15);\n",
              "        filter: drop-shadow(0px 1px 2px rgba(0, 0, 0, 0.3));\n",
              "        fill: #FFFFFF;\n",
              "      }\n",
              "    </style>\n",
              "    <button class=\"colab-df-generate\" onclick=\"generateWithVariable('df')\"\n",
              "            title=\"Generate code using this dataframe.\"\n",
              "            style=\"display:none;\">\n",
              "\n",
              "  <svg xmlns=\"http://www.w3.org/2000/svg\" height=\"24px\"viewBox=\"0 0 24 24\"\n",
              "       width=\"24px\">\n",
              "    <path d=\"M7,19H8.4L18.45,9,17,7.55,7,17.6ZM5,21V16.75L18.45,3.32a2,2,0,0,1,2.83,0l1.4,1.43a1.91,1.91,0,0,1,.58,1.4,1.91,1.91,0,0,1-.58,1.4L9.25,21ZM18.45,9,17,7.55Zm-12,3A5.31,5.31,0,0,0,4.9,8.1,5.31,5.31,0,0,0,1,6.5,5.31,5.31,0,0,0,4.9,4.9,5.31,5.31,0,0,0,6.5,1,5.31,5.31,0,0,0,8.1,4.9,5.31,5.31,0,0,0,12,6.5,5.46,5.46,0,0,0,6.5,12Z\"/>\n",
              "  </svg>\n",
              "    </button>\n",
              "    <script>\n",
              "      (() => {\n",
              "      const buttonEl =\n",
              "        document.querySelector('#id_535ac244-34a5-4367-9961-fd491025130b button.colab-df-generate');\n",
              "      buttonEl.style.display =\n",
              "        google.colab.kernel.accessAllowed ? 'block' : 'none';\n",
              "\n",
              "      buttonEl.onclick = () => {\n",
              "        google.colab.notebook.generateWithVariable('df');\n",
              "      }\n",
              "      })();\n",
              "    </script>\n",
              "  </div>\n",
              "\n",
              "    </div>\n",
              "  </div>\n"
            ],
            "application/vnd.google.colaboratory.intrinsic+json": {
              "type": "dataframe",
              "variable_name": "df",
              "summary": "{\n  \"name\": \"df\",\n  \"rows\": 3522,\n  \"fields\": [\n    {\n      \"column\": \"Course Name\",\n      \"properties\": {\n        \"dtype\": \"string\",\n        \"num_unique_values\": 3416,\n        \"samples\": [\n          \"Create a Record of Students using Arrays in Java\",\n          \"Fundamentals of financial and management accounting\",\n          \"When Disaster Meets Conflict\"\n        ],\n        \"semantic_type\": \"\",\n        \"description\": \"\"\n      }\n    },\n    {\n      \"column\": \"University\",\n      \"properties\": {\n        \"dtype\": \"category\",\n        \"num_unique_values\": 184,\n        \"samples\": [\n          \"The University of Edinburgh\",\n          \"American Museum of Natural History\",\n          \"Alibaba Cloud Academy\"\n        ],\n        \"semantic_type\": \"\",\n        \"description\": \"\"\n      }\n    },\n    {\n      \"column\": \"Difficulty Level\",\n      \"properties\": {\n        \"dtype\": \"category\",\n        \"num_unique_values\": 5,\n        \"samples\": [\n          \"Advanced\",\n          \"Conversant\",\n          \"Intermediate\"\n        ],\n        \"semantic_type\": \"\",\n        \"description\": \"\"\n      }\n    },\n    {\n      \"column\": \"Course Rating\",\n      \"properties\": {\n        \"dtype\": \"category\",\n        \"num_unique_values\": 31,\n        \"samples\": [\n          \"2.4\",\n          \"3.7\",\n          \"2\"\n        ],\n        \"semantic_type\": \"\",\n        \"description\": \"\"\n      }\n    },\n    {\n      \"column\": \"Course URL\",\n      \"properties\": {\n        \"dtype\": \"string\",\n        \"num_unique_values\": 3424,\n        \"samples\": [\n          \"https://www.coursera.org/learn/city-and-you-find-best-place\",\n          \"https://www.coursera.org/learn/user-research\",\n          \"https://www.coursera.org/learn/people-management\"\n        ],\n        \"semantic_type\": \"\",\n        \"description\": \"\"\n      }\n    },\n    {\n      \"column\": \"Course Description\",\n      \"properties\": {\n        \"dtype\": \"string\",\n        \"num_unique_values\": 3397,\n        \"samples\": [\n          \"This course can also be taken for academic credit as ECEA 5317, part of CU Boulder\\ufffds Master of Science in Electrical Engineering degree.  Upon completion of this course the learner will know the difference between systems you can bet your life on (mission critical) and those which provide predictable response and quality of service (reliable).  This will be achieved not only by study of design methods and patterns for mission critical systems, but also through implementation of soft real-time systems and comparison to hard real-time.  Methods of verification to determine ability to meet mission critical as well as soft real-time requirements will be learned so that the learner can properly assess risk, reliability and impact of failure in real-time systems.  At the end of this course learners will be able to apply an architectural style (cyclic executive, RTOS, or embedded Linux) to more detailed design of a mission critical system, a soft real-time system, or a mixed hard and soft real-time system, including:  ?\\\\tThorough understanding of hardware/software device interfaces and resource view for hardware abstraction layers (HAL, BSP) ?\\\\tDesign trade-offs with different real-time hardware architectures including single core, multi-core, hybrid-FPGA, GP-GPU, and DSP systems, with emphasis on multi-core ?\\\\tMission critical embedded systems architecture and key design elements ?\\\\tFault tolerant processing, memory, and I/O concepts\",\n          \"Financial Accounting is often called the language of business; it is the language that managers use to communicate the firm's financial and economic information to external parties such as shareholders and creditors. Nobody working in business can afford financial illiteracy. Whether you run your own business, work as a manager or are just starting your career, you want to understand financial information and be able to interact with accountants, controllers, and financial managers. You want to talk business!   This course will provide you with the accounting language's essentials. Upon completion, you should be able to read and interpret financial statements for business diagnosis and decision-making. More importantly, you will possess the conceptual base to keep learning more sophisticated accounting and finance on your own. Do not forget that, as with any other language, becoming proficient with accounting requires constant practice.\",\n          \"Build on the software engineering skills you learned in \\ufffdJava Programming: Solving Problems with Software\\ufffd by learning new data structures. Use these data structures to build more complex programs that use Java\\ufffds object-oriented features. At the end of the course you will write an encryption program and a program to break your encryption algorithm.  After completing this course, you will be able to: 1. Read and write data from/to files; 2. Solve problems involving data files; 3. Perform quantitative analyses of data (e.g., finding maximums, minimums, averages);  4. Store and manipulate data in an array or ArrayList; 5. Combine multiple classes to solve larger problems; 6. Use iterables and collections (including maps) in Java.\"\n        ],\n        \"semantic_type\": \"\",\n        \"description\": \"\"\n      }\n    },\n    {\n      \"column\": \"Skills\",\n      \"properties\": {\n        \"dtype\": \"string\",\n        \"num_unique_values\": 3424,\n        \"samples\": [\n          \"economy  pandemic  global city  financial centre  crisis  global  curiosity  slum  emerging markets  Creativity social-sciences governance-and-society\",\n          \"i-deas  User Experience  Human Computer Interaction  thought  Map  experience  interview  interaction design  persona (user experience)  User Research computer-science design-and-product\",\n          \"Leadership and Management  organizational conflict  leadership  Human Resources  conflict resolution  performance appraisal  Conflict Management  interview  Performance Management  performance business leadership-and-management\"\n        ],\n        \"semantic_type\": \"\",\n        \"description\": \"\"\n      }\n    }\n  ]\n}"
            }
          },
          "metadata": {},
          "execution_count": 5
        }
      ]
    },
    {
      "cell_type": "markdown",
      "source": [
        "**Mengecek ukuran dataset**"
      ],
      "metadata": {
        "id": "sXvfMpvoOmXB"
      }
    },
    {
      "cell_type": "code",
      "source": [
        "df.shape"
      ],
      "metadata": {
        "colab": {
          "base_uri": "https://localhost:8080/"
        },
        "id": "LZZq6ycgBCja",
        "outputId": "8062d422-2884-4416-cf6e-6a949d17cf16"
      },
      "execution_count": 6,
      "outputs": [
        {
          "output_type": "execute_result",
          "data": {
            "text/plain": [
              "(3522, 7)"
            ]
          },
          "metadata": {},
          "execution_count": 6
        }
      ]
    },
    {
      "cell_type": "markdown",
      "source": [
        "Hasil `3.522, 7)` menunjukkan bahwa dataset memiliki:\n",
        "\n",
        "- `3.522` baris (rows): merepresentasikan kursus yang tersedia di platform Coursera.\n",
        "- `7` kolom (columns): merepresentasikan fitur (kolom) atau atribut dari kursus yang tersedia.\n"
      ],
      "metadata": {
        "id": "4YcD8xwmO1jV"
      }
    },
    {
      "cell_type": "markdown",
      "source": [
        "# **Data Feature**"
      ],
      "metadata": {
        "id": "ZmmbrNOYZ3K2"
      }
    },
    {
      "cell_type": "markdown",
      "source": [
        "**Menampilkan info dari data**"
      ],
      "metadata": {
        "id": "DQ_9n8iHaOcT"
      }
    },
    {
      "cell_type": "code",
      "source": [
        "df.info()"
      ],
      "metadata": {
        "colab": {
          "base_uri": "https://localhost:8080/"
        },
        "id": "I16kUb_SBGL9",
        "outputId": "c973c0b9-9b1c-49ee-8875-4bc58334ef99"
      },
      "execution_count": 7,
      "outputs": [
        {
          "output_type": "stream",
          "name": "stdout",
          "text": [
            "<class 'pandas.core.frame.DataFrame'>\n",
            "RangeIndex: 3522 entries, 0 to 3521\n",
            "Data columns (total 7 columns):\n",
            " #   Column              Non-Null Count  Dtype \n",
            "---  ------              --------------  ----- \n",
            " 0   Course Name         3522 non-null   object\n",
            " 1   University          3522 non-null   object\n",
            " 2   Difficulty Level    3522 non-null   object\n",
            " 3   Course Rating       3522 non-null   object\n",
            " 4   Course URL          3522 non-null   object\n",
            " 5   Course Description  3522 non-null   object\n",
            " 6   Skills              3522 non-null   object\n",
            "dtypes: object(7)\n",
            "memory usage: 192.7+ KB\n"
          ]
        }
      ]
    },
    {
      "cell_type": "markdown",
      "source": [
        "Deskripsi fitur (kolom) :\n",
        "- `Course Name` : Nama kursus,\n",
        "- `University` : Universitas yang menawarkan Kursus,\n",
        "- `Difficulty Level` : Tingkat Kesulitan Kursus.\n",
        "- `Course Rating` : Nilai rating kursus dalam skala 0 - 5,\n",
        "- `Course URL` : Tautan ke halaman kursus,\n",
        "- `Course Description` : Deskripsi Kursus.\n",
        "- `Skills` : Keterampilan yang terkait dengan Kursus.\n",
        "\n",
        "Keterangan tambahan :\n",
        "- Berdasarkan dataset, data yang hilang (kosong) diwakili oleh `Not Calibrated`.\n",
        "\n",
        "\n",
        "\n",
        "\n"
      ],
      "metadata": {
        "id": "-fPF30QXDVRy"
      }
    },
    {
      "cell_type": "markdown",
      "source": [
        "# **Data Checking**"
      ],
      "metadata": {
        "id": "r8S05HNKJXaE"
      }
    },
    {
      "cell_type": "markdown",
      "source": [
        "Melakukan pengecekan data untuk mengecek nilai yang hilang, dan data yang memiliki duplikasi."
      ],
      "metadata": {
        "id": "EBOX4dd_ZhzQ"
      }
    },
    {
      "cell_type": "markdown",
      "source": [
        "**Deteksi Nilai yang Hilang/Kosong (Missing Values)**"
      ],
      "metadata": {
        "id": "7lvH3YMgQeMG"
      }
    },
    {
      "cell_type": "code",
      "source": [
        "df.isnull().sum()"
      ],
      "metadata": {
        "colab": {
          "base_uri": "https://localhost:8080/",
          "height": 303
        },
        "id": "e7oDyTkHBKQJ",
        "outputId": "02f893fa-3608-4622-c8c9-d345b787c223"
      },
      "execution_count": 8,
      "outputs": [
        {
          "output_type": "execute_result",
          "data": {
            "text/plain": [
              "Course Name           0\n",
              "University            0\n",
              "Difficulty Level      0\n",
              "Course Rating         0\n",
              "Course URL            0\n",
              "Course Description    0\n",
              "Skills                0\n",
              "dtype: int64"
            ],
            "text/html": [
              "<div>\n",
              "<style scoped>\n",
              "    .dataframe tbody tr th:only-of-type {\n",
              "        vertical-align: middle;\n",
              "    }\n",
              "\n",
              "    .dataframe tbody tr th {\n",
              "        vertical-align: top;\n",
              "    }\n",
              "\n",
              "    .dataframe thead th {\n",
              "        text-align: right;\n",
              "    }\n",
              "</style>\n",
              "<table border=\"1\" class=\"dataframe\">\n",
              "  <thead>\n",
              "    <tr style=\"text-align: right;\">\n",
              "      <th></th>\n",
              "      <th>0</th>\n",
              "    </tr>\n",
              "  </thead>\n",
              "  <tbody>\n",
              "    <tr>\n",
              "      <th>Course Name</th>\n",
              "      <td>0</td>\n",
              "    </tr>\n",
              "    <tr>\n",
              "      <th>University</th>\n",
              "      <td>0</td>\n",
              "    </tr>\n",
              "    <tr>\n",
              "      <th>Difficulty Level</th>\n",
              "      <td>0</td>\n",
              "    </tr>\n",
              "    <tr>\n",
              "      <th>Course Rating</th>\n",
              "      <td>0</td>\n",
              "    </tr>\n",
              "    <tr>\n",
              "      <th>Course URL</th>\n",
              "      <td>0</td>\n",
              "    </tr>\n",
              "    <tr>\n",
              "      <th>Course Description</th>\n",
              "      <td>0</td>\n",
              "    </tr>\n",
              "    <tr>\n",
              "      <th>Skills</th>\n",
              "      <td>0</td>\n",
              "    </tr>\n",
              "  </tbody>\n",
              "</table>\n",
              "</div><br><label><b>dtype:</b> int64</label>"
            ]
          },
          "metadata": {},
          "execution_count": 8
        }
      ]
    },
    {
      "cell_type": "markdown",
      "source": [
        "Dalam mengecek secara normal tidak ada terdeteksi data yang hilang. Namun pada dataset, diberikan keterangan bahwa data yang memiliki nilai yang hilang diberi nilai `Not Calibrated`."
      ],
      "metadata": {
        "id": "06d2O2WoWuZG"
      }
    },
    {
      "cell_type": "markdown",
      "source": [
        "Mengecek fitur (kolom) yang mengandung nilai `Not Calibrated` yang dianggap sebagai nilai yang hilang (kosong)"
      ],
      "metadata": {
        "id": "6KJ8WTAIKqoA"
      }
    },
    {
      "cell_type": "code",
      "source": [
        "for column in df.columns:\n",
        "    count = df[column].astype(str).str.contains(\"Not Calibrated\").sum()\n",
        "    if count > 0:\n",
        "        print(f'Kolom \"{column}\" mengandung {count} nilai \"Not Calibrated\"')"
      ],
      "metadata": {
        "colab": {
          "base_uri": "https://localhost:8080/"
        },
        "id": "_Nn3zuhUKRvn",
        "outputId": "4b786acf-d304-4607-afe6-993fa8f3ccc8"
      },
      "execution_count": 9,
      "outputs": [
        {
          "output_type": "stream",
          "name": "stdout",
          "text": [
            "Kolom \"Difficulty Level\" mengandung 50 nilai \"Not Calibrated\"\n",
            "Kolom \"Course Rating\" mengandung 82 nilai \"Not Calibrated\"\n"
          ]
        }
      ]
    },
    {
      "cell_type": "markdown",
      "source": [
        "**Deteksi Data yang Duplikat**"
      ],
      "metadata": {
        "id": "BSyFJI6ZQzTd"
      }
    },
    {
      "cell_type": "code",
      "source": [
        "df.duplicated().sum()"
      ],
      "metadata": {
        "colab": {
          "base_uri": "https://localhost:8080/"
        },
        "id": "6QkHQ5qQJfCZ",
        "outputId": "90b295c4-dfff-47d4-80b4-0560d7e8a642"
      },
      "execution_count": 10,
      "outputs": [
        {
          "output_type": "execute_result",
          "data": {
            "text/plain": [
              "np.int64(98)"
            ]
          },
          "metadata": {},
          "execution_count": 10
        }
      ]
    },
    {
      "cell_type": "markdown",
      "source": [
        "Hasil `np.int64(98)` menunjukkan ada 98 baris data yang terdeteksi sebagai duplikat."
      ],
      "metadata": {
        "id": "dU7gAyH5RKTC"
      }
    },
    {
      "cell_type": "markdown",
      "source": [
        "# **Univariate Exploratory Data Analysis**"
      ],
      "metadata": {
        "id": "AkuQMzDub-mO"
      }
    },
    {
      "cell_type": "code",
      "source": [
        "df.columns"
      ],
      "metadata": {
        "colab": {
          "base_uri": "https://localhost:8080/"
        },
        "id": "JeKWUyUiEYh5",
        "outputId": "7cf8fa9c-319a-46e0-876d-c49a8a60f500"
      },
      "execution_count": 11,
      "outputs": [
        {
          "output_type": "execute_result",
          "data": {
            "text/plain": [
              "Index(['Course Name', 'University', 'Difficulty Level', 'Course Rating',\n",
              "       'Course URL', 'Course Description', 'Skills'],\n",
              "      dtype='object')"
            ]
          },
          "metadata": {},
          "execution_count": 11
        }
      ]
    },
    {
      "cell_type": "markdown",
      "source": [
        "**Visualisasi Course Rating**"
      ],
      "metadata": {
        "id": "6WKwweY7NGIT"
      }
    },
    {
      "cell_type": "code",
      "source": [
        "df['Course Rating'].value_counts()"
      ],
      "metadata": {
        "colab": {
          "base_uri": "https://localhost:8080/",
          "height": 1000
        },
        "id": "FcWBBuNBVKcF",
        "outputId": "682ead93-fbbc-41de-f4dd-677410fde46b"
      },
      "execution_count": 12,
      "outputs": [
        {
          "output_type": "execute_result",
          "data": {
            "text/plain": [
              "Course Rating\n",
              "4.7               740\n",
              "4.6               623\n",
              "4.8               598\n",
              "4.5               389\n",
              "4.4               242\n",
              "4.9               180\n",
              "4.3               165\n",
              "4.2               121\n",
              "5                  90\n",
              "4.1                85\n",
              "Not Calibrated     82\n",
              "4                  51\n",
              "3.8                24\n",
              "3.9                20\n",
              "3.6                18\n",
              "3.7                18\n",
              "3.5                17\n",
              "3.4                13\n",
              "3                  12\n",
              "3.2                 9\n",
              "3.3                 6\n",
              "2.9                 6\n",
              "2.6                 2\n",
              "2.8                 2\n",
              "2.4                 2\n",
              "1                   2\n",
              "2                   1\n",
              "2.5                 1\n",
              "3.1                 1\n",
              "1.9                 1\n",
              "2.3                 1\n",
              "Name: count, dtype: int64"
            ],
            "text/html": [
              "<div>\n",
              "<style scoped>\n",
              "    .dataframe tbody tr th:only-of-type {\n",
              "        vertical-align: middle;\n",
              "    }\n",
              "\n",
              "    .dataframe tbody tr th {\n",
              "        vertical-align: top;\n",
              "    }\n",
              "\n",
              "    .dataframe thead th {\n",
              "        text-align: right;\n",
              "    }\n",
              "</style>\n",
              "<table border=\"1\" class=\"dataframe\">\n",
              "  <thead>\n",
              "    <tr style=\"text-align: right;\">\n",
              "      <th></th>\n",
              "      <th>count</th>\n",
              "    </tr>\n",
              "    <tr>\n",
              "      <th>Course Rating</th>\n",
              "      <th></th>\n",
              "    </tr>\n",
              "  </thead>\n",
              "  <tbody>\n",
              "    <tr>\n",
              "      <th>4.7</th>\n",
              "      <td>740</td>\n",
              "    </tr>\n",
              "    <tr>\n",
              "      <th>4.6</th>\n",
              "      <td>623</td>\n",
              "    </tr>\n",
              "    <tr>\n",
              "      <th>4.8</th>\n",
              "      <td>598</td>\n",
              "    </tr>\n",
              "    <tr>\n",
              "      <th>4.5</th>\n",
              "      <td>389</td>\n",
              "    </tr>\n",
              "    <tr>\n",
              "      <th>4.4</th>\n",
              "      <td>242</td>\n",
              "    </tr>\n",
              "    <tr>\n",
              "      <th>4.9</th>\n",
              "      <td>180</td>\n",
              "    </tr>\n",
              "    <tr>\n",
              "      <th>4.3</th>\n",
              "      <td>165</td>\n",
              "    </tr>\n",
              "    <tr>\n",
              "      <th>4.2</th>\n",
              "      <td>121</td>\n",
              "    </tr>\n",
              "    <tr>\n",
              "      <th>5</th>\n",
              "      <td>90</td>\n",
              "    </tr>\n",
              "    <tr>\n",
              "      <th>4.1</th>\n",
              "      <td>85</td>\n",
              "    </tr>\n",
              "    <tr>\n",
              "      <th>Not Calibrated</th>\n",
              "      <td>82</td>\n",
              "    </tr>\n",
              "    <tr>\n",
              "      <th>4</th>\n",
              "      <td>51</td>\n",
              "    </tr>\n",
              "    <tr>\n",
              "      <th>3.8</th>\n",
              "      <td>24</td>\n",
              "    </tr>\n",
              "    <tr>\n",
              "      <th>3.9</th>\n",
              "      <td>20</td>\n",
              "    </tr>\n",
              "    <tr>\n",
              "      <th>3.6</th>\n",
              "      <td>18</td>\n",
              "    </tr>\n",
              "    <tr>\n",
              "      <th>3.7</th>\n",
              "      <td>18</td>\n",
              "    </tr>\n",
              "    <tr>\n",
              "      <th>3.5</th>\n",
              "      <td>17</td>\n",
              "    </tr>\n",
              "    <tr>\n",
              "      <th>3.4</th>\n",
              "      <td>13</td>\n",
              "    </tr>\n",
              "    <tr>\n",
              "      <th>3</th>\n",
              "      <td>12</td>\n",
              "    </tr>\n",
              "    <tr>\n",
              "      <th>3.2</th>\n",
              "      <td>9</td>\n",
              "    </tr>\n",
              "    <tr>\n",
              "      <th>3.3</th>\n",
              "      <td>6</td>\n",
              "    </tr>\n",
              "    <tr>\n",
              "      <th>2.9</th>\n",
              "      <td>6</td>\n",
              "    </tr>\n",
              "    <tr>\n",
              "      <th>2.6</th>\n",
              "      <td>2</td>\n",
              "    </tr>\n",
              "    <tr>\n",
              "      <th>2.8</th>\n",
              "      <td>2</td>\n",
              "    </tr>\n",
              "    <tr>\n",
              "      <th>2.4</th>\n",
              "      <td>2</td>\n",
              "    </tr>\n",
              "    <tr>\n",
              "      <th>1</th>\n",
              "      <td>2</td>\n",
              "    </tr>\n",
              "    <tr>\n",
              "      <th>2</th>\n",
              "      <td>1</td>\n",
              "    </tr>\n",
              "    <tr>\n",
              "      <th>2.5</th>\n",
              "      <td>1</td>\n",
              "    </tr>\n",
              "    <tr>\n",
              "      <th>3.1</th>\n",
              "      <td>1</td>\n",
              "    </tr>\n",
              "    <tr>\n",
              "      <th>1.9</th>\n",
              "      <td>1</td>\n",
              "    </tr>\n",
              "    <tr>\n",
              "      <th>2.3</th>\n",
              "      <td>1</td>\n",
              "    </tr>\n",
              "  </tbody>\n",
              "</table>\n",
              "</div><br><label><b>dtype:</b> int64</label>"
            ]
          },
          "metadata": {},
          "execution_count": 12
        }
      ]
    },
    {
      "cell_type": "code",
      "source": [
        "# Menghitung frekuensi nilai Course Rating\n",
        "rating_counts = df['Course Rating'].value_counts()\n",
        "\n",
        "# Plot bar chart\n",
        "plt.figure(figsize=(8,5))\n",
        "sns.barplot(x=rating_counts.index, y=rating_counts.values, palette='viridis')\n",
        "plt.title('Frekuensi Course Rating')\n",
        "plt.xlabel('Rating')\n",
        "plt.ylabel('Jumlah Kursus')\n",
        "plt.xticks(rotation=90)\n",
        "plt.tight_layout()\n",
        "plt.show()"
      ],
      "metadata": {
        "colab": {
          "base_uri": "https://localhost:8080/",
          "height": 597
        },
        "id": "aE74XZIr5fM-",
        "outputId": "cd8bca83-78b3-4cb1-9ba1-d1bad332ab15"
      },
      "execution_count": 13,
      "outputs": [
        {
          "output_type": "stream",
          "name": "stderr",
          "text": [
            "<ipython-input-13-4139970247>:6: FutureWarning: \n",
            "\n",
            "Passing `palette` without assigning `hue` is deprecated and will be removed in v0.14.0. Assign the `x` variable to `hue` and set `legend=False` for the same effect.\n",
            "\n",
            "  sns.barplot(x=rating_counts.index, y=rating_counts.values, palette='viridis')\n"
          ]
        },
        {
          "output_type": "display_data",
          "data": {
            "text/plain": [
              "<Figure size 800x500 with 1 Axes>"
            ],
            "image/png": "[encoded data removed]"
          },
          "metadata": {}
        }
      ]
    },
    {
      "cell_type": "markdown",
      "source": [
        "Distribusi hasil :\n",
        " * Dominasi Rating Positif : Rating 4.7, 4.6, dan 4.8 merupakan yang nilai yang paling sering muncul, masing-masing dengan jumlah kursus lebih dari 600. Hal ini mencerminkan bahwa mayoritas kursus memiliki tingkat kepuasan pengguna yang sangat tinggi. Platform kemungkinan besar berhasil mempertahankan standar kualitas yang baik dalam penyediaan kursus.\n",
        " * Minimnya Kursus dengan Rating Rendah : Kursus dengan rating di bawah 4.0 jumlahnya sangat sedikit dibandingkan dengan kursus yang memiliki rating tinggi. Menunjukkan bahwa kursus dengan kualitas rendah mungkin sudah dihapus, atau pengguna memang jarang memilih kursus yang tidak populer.\n",
        " * Nilai \"Not Calibrated\" : Sebanyak 82 data yang memiliki label \"Not Calibrated\" yang artinya tidak memiliki rating. Dimana data ini secara khusus akan diganti nilainya menjadi NaN supaya dapat terdeteksi menjadi nilai yang kosong.\n",
        " * Distribusi Miring Positif (Right Skewed) : Distribusi data condong ke rating tinggi yang artinya sebagian besar kursus dinilai sangat baik, sementara hanya sedikit yang mendapat rating rendah."
      ],
      "metadata": {
        "id": "ZHfk67RTNMV-"
      }
    },
    {
      "cell_type": "markdown",
      "source": [
        "**Analisis Fitur Nama Kursus dan Universitas**"
      ],
      "metadata": {
        "id": "_h1KomyrNd1G"
      }
    },
    {
      "cell_type": "code",
      "source": [
        "columns_to_plot = list(df.columns)[0:2]\n",
        "for column in columns_to_plot:\n",
        "  print(f\"Kolom : {column}\")\n",
        "  print(df[column].value_counts(sort='descending'))\n",
        "  print(\"\\n\")"
      ],
      "metadata": {
        "colab": {
          "base_uri": "https://localhost:8080/"
        },
        "id": "yqJ3f8whG6IR",
        "outputId": "0f81cd5f-2365-4691-ca15-c2edf5758bab"
      },
      "execution_count": 14,
      "outputs": [
        {
          "output_type": "stream",
          "name": "stdout",
          "text": [
            "Kolom : Course Name\n",
            "Course Name\n",
            "Google Cloud Platform Fundamentals: Core Infrastructure    8\n",
            "Python for Data Science and AI                             4\n",
            "Data Visualization with Python                             4\n",
            "The Art of Music Production                                4\n",
            "What is Data Science?                                      4\n",
            "                                                          ..\n",
            "Managerial Accounting Fundamentals                         1\n",
            "Data Visualization                                         1\n",
            "FinTech Security and Regulation (RegTech)                  1\n",
            "Using Shiny to Plot Differential Gene Expression           1\n",
            "How to Finance and Grow Your Startup � Without VC          1\n",
            "Name: count, Length: 3416, dtype: int64\n",
            "\n",
            "\n",
            "Kolom : University\n",
            "University\n",
            "Coursera Project Network                      562\n",
            "University of Illinois at Urbana-Champaign    138\n",
            "Johns Hopkins University                      110\n",
            "University of Colorado Boulder                101\n",
            "University of Michigan                        101\n",
            "                                             ... \n",
            "University of Nebraska                          1\n",
            "Pontificia Universidad Cat�lica de Chile        1\n",
            "VMware                                          1\n",
            "E-Learning Development Fund                     1\n",
            "The World Bank Group                            1\n",
            "Name: count, Length: 184, dtype: int64\n",
            "\n",
            "\n"
          ]
        }
      ]
    },
    {
      "cell_type": "markdown",
      "source": [
        "Hasil :    \n",
        "- Fitur Course Name (Nama) : Total 3.416 kursus unik yang dicatat dalam kolom ini dengan kursus paling populer yaitu \"Google Cloud Platform Fundamentals: Core Infrastructure\" yang muncul sebanyak 8 kali. Sebagian besar kursus hanya muncul sekali, menunjukkan bahwa mayoritas kursus bersifat unik. Platform memiliki beragam topik kursus, menunjukkan variasi yang besar.\n",
        "- Fitur University (Universitas) : Terdapat 184 institusi/universitas yang menawarkan kursus. Dengan lima (5) universitas teratas yaitu Coursera Project Network sebanyak 562 kursus, University of Illinois at Urbana-Champaign sebanyak 138 kursus, Johns Hopkins University sebanyak 110 kursus, University of Colorado Boulder sebanyak 101 kursus, dan University of Michigan sebanyak 101 kursus. Banyak universitas/institusi hanya memiliki satu (1) kursus yang menandakan keragaman kontributor dalam platform ini."
      ],
      "metadata": {
        "id": "yOBdK0WzNlOL"
      }
    },
    {
      "cell_type": "markdown",
      "source": [
        "**Visualisasi Fitur Difficulty Level**"
      ],
      "metadata": {
        "id": "5AL0bVjuNs_C"
      }
    },
    {
      "cell_type": "code",
      "source": [
        "order = df['Difficulty Level'].value_counts(sort='descending').index\n",
        "sns.countplot(data=df, y='Difficulty Level', order=order, palette='viridis', hue='Difficulty Level')\n",
        "plt.show()"
      ],
      "metadata": {
        "colab": {
          "base_uri": "https://localhost:8080/",
          "height": 449
        },
        "id": "maMOcqX4FePH",
        "outputId": "b496b0d3-2c51-4075-a070-8a324a45c8a4"
      },
      "execution_count": 15,
      "outputs": [
        {
          "output_type": "display_data",
          "data": {
            "text/plain": [
              "<Figure size 640x480 with 1 Axes>"
            ],
            "image/png": "[encoded data removed]"
          },
          "metadata": {}
        }
      ]
    },
    {
      "cell_type": "markdown",
      "source": [
        "Distribusi hasil :\n",
        "- Beginner (Pemula) merupakan tingkat kesulitan yang paling banyak, dengan jumlah lebih dari 1400 kursus. Hal ini menunjukkan bahwa platform ini sangat ramah bagi pemula.\n",
        "- Advanced dan Intermediate juga memiliki representasi yang tinggi, masing-masing mendekati 1000 dan 850 kursus, menandakan adanya banyak kursus untuk pengguna yang sudah memiliki pengetahuan menengah hingga lanjut.\n",
        "- Conversant (cukup menguasai) memiliki jauh lebih sedikit kursus (~200), menunjukkan bahwa label ini tidak banyak digunakan oleh pengguna/instruktur dan penyedia kursus\n",
        "- Not Calibrated berjumlah sangat sedikit, yang merupakan data tidak lengkap (missing value), dan perlu ditangani pada tahap selanjutnya."
      ],
      "metadata": {
        "id": "57hS0rCmSP8a"
      }
    },
    {
      "cell_type": "markdown",
      "source": [
        "# **Data Preparation**"
      ],
      "metadata": {
        "id": "lBBDSR8rVTbV"
      }
    },
    {
      "cell_type": "markdown",
      "source": [
        "### Data Cleaning"
      ],
      "metadata": {
        "id": "8Ae5dWH6MMvY"
      }
    },
    {
      "cell_type": "markdown",
      "source": [
        "**Mengubah nilai 'Not Calibrated'**"
      ],
      "metadata": {
        "id": "21N40TTi3a69"
      }
    },
    {
      "cell_type": "code",
      "source": [
        "df.replace(\"Not Calibrated\", np.nan,inplace=True)"
      ],
      "metadata": {
        "id": "6XOxocklANWr"
      },
      "execution_count": 16,
      "outputs": []
    },
    {
      "cell_type": "markdown",
      "source": [
        "Data yang terdeteksi sebagai nilai `Not Calibrated` diganti menjadi `NaN` supaya saat mendeteksi 'missing value' jumlahnya dapat terdeteksi oleh sistem."
      ],
      "metadata": {
        "id": "nzXrxBaxAomu"
      }
    },
    {
      "cell_type": "code",
      "source": [
        "df.isnull().sum()"
      ],
      "metadata": {
        "colab": {
          "base_uri": "https://localhost:8080/",
          "height": 303
        },
        "id": "AnlWrEQyNVOz",
        "outputId": "a92edb17-819d-4631-b833-9f3fa4b30feb"
      },
      "execution_count": 17,
      "outputs": [
        {
          "output_type": "execute_result",
          "data": {
            "text/plain": [
              "Course Name            0\n",
              "University             0\n",
              "Difficulty Level      50\n",
              "Course Rating         82\n",
              "Course URL             0\n",
              "Course Description     0\n",
              "Skills                 0\n",
              "dtype: int64"
            ],
            "text/html": [
              "<div>\n",
              "<style scoped>\n",
              "    .dataframe tbody tr th:only-of-type {\n",
              "        vertical-align: middle;\n",
              "    }\n",
              "\n",
              "    .dataframe tbody tr th {\n",
              "        vertical-align: top;\n",
              "    }\n",
              "\n",
              "    .dataframe thead th {\n",
              "        text-align: right;\n",
              "    }\n",
              "</style>\n",
              "<table border=\"1\" class=\"dataframe\">\n",
              "  <thead>\n",
              "    <tr style=\"text-align: right;\">\n",
              "      <th></th>\n",
              "      <th>0</th>\n",
              "    </tr>\n",
              "  </thead>\n",
              "  <tbody>\n",
              "    <tr>\n",
              "      <th>Course Name</th>\n",
              "      <td>0</td>\n",
              "    </tr>\n",
              "    <tr>\n",
              "      <th>University</th>\n",
              "      <td>0</td>\n",
              "    </tr>\n",
              "    <tr>\n",
              "      <th>Difficulty Level</th>\n",
              "      <td>50</td>\n",
              "    </tr>\n",
              "    <tr>\n",
              "      <th>Course Rating</th>\n",
              "      <td>82</td>\n",
              "    </tr>\n",
              "    <tr>\n",
              "      <th>Course URL</th>\n",
              "      <td>0</td>\n",
              "    </tr>\n",
              "    <tr>\n",
              "      <th>Course Description</th>\n",
              "      <td>0</td>\n",
              "    </tr>\n",
              "    <tr>\n",
              "      <th>Skills</th>\n",
              "      <td>0</td>\n",
              "    </tr>\n",
              "  </tbody>\n",
              "</table>\n",
              "</div><br><label><b>dtype:</b> int64</label>"
            ]
          },
          "metadata": {},
          "execution_count": 17
        }
      ]
    },
    {
      "cell_type": "markdown",
      "source": [
        "Setelah nilai diubah, tampilan menunjukkan bahwa total missing value pada data sebanyak :    \n",
        "- 50 buah pada fitur `Difficulty Level`\n",
        "- 82 buah pada fitur `Course Rating`"
      ],
      "metadata": {
        "id": "eSlwaBPhKwZ2"
      }
    },
    {
      "cell_type": "markdown",
      "source": [
        "**Mengganti Tipe Data Fitur Course Rating**"
      ],
      "metadata": {
        "id": "2KW-ogqLJEau"
      }
    },
    {
      "cell_type": "code",
      "source": [
        "df['Course Rating'] = df['Course Rating'].astype(float)"
      ],
      "metadata": {
        "id": "QmQAl6uLFLaP"
      },
      "execution_count": 18,
      "outputs": []
    },
    {
      "cell_type": "markdown",
      "source": [
        "Mengganti tipe data Course Rating menjadi `float` untuk memastikan data dapat dianalisis, divisualisasikan, dan digunakan dalam algoritma machine learning yang memerlukan input numerik."
      ],
      "metadata": {
        "id": "7pBle55QJOPM"
      }
    },
    {
      "cell_type": "markdown",
      "source": [
        "**Penanganan Missing Value pada Fitur Course Rating**"
      ],
      "metadata": {
        "id": "EiCqVeBoMJNA"
      }
    },
    {
      "cell_type": "code",
      "source": [
        "impute = SimpleImputer(strategy=\"median\")\n",
        "df['Course Rating'] = impute.fit_transform(df[['Course Rating']])"
      ],
      "metadata": {
        "id": "qY17GC2BMxDG"
      },
      "execution_count": 19,
      "outputs": []
    },
    {
      "cell_type": "markdown",
      "source": [
        "Untuk mengatasi missing value pada kolom Course Rating dilakukan pengubahan nilai, yaitu mengganti nilai yang dideteksi sebagai missing value menggunakan nilai median dari seluruh data pada kolom tersebut."
      ],
      "metadata": {
        "id": "QTaBNyTGMT3j"
      }
    },
    {
      "cell_type": "markdown",
      "source": [
        "**Penanganan Missing Value pada Fitur Difficulty Level**"
      ],
      "metadata": {
        "id": "IzU82WE4M3VT"
      }
    },
    {
      "cell_type": "code",
      "source": [
        "df.loc[df['Difficulty Level'].isna(), 'Difficulty Level'] = df['Difficulty Level'].mode()[0]"
      ],
      "metadata": {
        "id": "kKEP5N_hNbIK"
      },
      "execution_count": 20,
      "outputs": []
    },
    {
      "cell_type": "markdown",
      "source": [
        "Untuk mengatasi missing value pada kolom Difficulty Level dilakukan pengubahan nilai yaitu mengganti missing value menggunakan nilai modus (mode) dari kolom tersebut karena nilai yang paling sering muncul (modus) mewakili sebagian besar data, sehingga aman digunakan sebagai pengganti nilai yang hilang."
      ],
      "metadata": {
        "id": "4ZSb859BNnmn"
      }
    },
    {
      "cell_type": "markdown",
      "source": [
        "**Menghapus Data Duplikat**"
      ],
      "metadata": {
        "id": "BWGAVWKC3SwE"
      }
    },
    {
      "cell_type": "code",
      "source": [
        "df = df.drop_duplicates()"
      ],
      "metadata": {
        "id": "FVU95vrBOqQV"
      },
      "execution_count": 21,
      "outputs": []
    },
    {
      "cell_type": "markdown",
      "source": [
        "Menghapus semua data yang terdeteksi duplikat"
      ],
      "metadata": {
        "id": "fubAKoNmRSH7"
      }
    },
    {
      "cell_type": "code",
      "source": [
        "df = df.copy()"
      ],
      "metadata": {
        "id": "Dnt3ak8miZVG"
      },
      "execution_count": 22,
      "outputs": []
    },
    {
      "cell_type": "markdown",
      "source": [
        "**Menghapus Karakter Khusus**"
      ],
      "metadata": {
        "id": "_VaD8J1hSHxp"
      }
    },
    {
      "cell_type": "code",
      "source": [
        "df.loc[:, 'Course Name'] = df['Course Name'].str.replace(r'[:,\\-]', ' ', regex=True)\n",
        "df.loc[:, 'Course Description'] = df['Course Description'].str.replace(r'[-\\.:,]', ' ', regex=True)\n",
        "df.loc[:, 'Skills'] = df['Skills'].str.replace(r'[-\\.:,()]', ' ', regex=True)"
      ],
      "metadata": {
        "id": "C8fLOj5kY7M9"
      },
      "execution_count": 23,
      "outputs": []
    },
    {
      "cell_type": "markdown",
      "source": [
        "Menghapus atau mengganti karakter-karakter khusus pada kolom teks dengan spasi, agar teks lebih bersih dan mudah diproses lebih lanjut untuk pemodelan."
      ],
      "metadata": {
        "id": "jPABw_k9SACY"
      }
    },
    {
      "cell_type": "markdown",
      "source": [
        "### Text Feature Transformation"
      ],
      "metadata": {
        "id": "CduQgL8HWHt6"
      }
    },
    {
      "cell_type": "markdown",
      "source": [
        "**Fitur Gabungan Representasi Teks**"
      ],
      "metadata": {
        "id": "r6AHgkGhTFUP"
      }
    },
    {
      "cell_type": "code",
      "source": [
        "df.loc[:, 'Final Col'] = df['Course Name'] + ' ' + df['Course Description'] + ' ' + df['Skills'] + ' ' + df['Difficulty Level']"
      ],
      "metadata": {
        "id": "rmGEc6DjZ2wB"
      },
      "execution_count": 24,
      "outputs": []
    },
    {
      "cell_type": "markdown",
      "source": [
        "Menggabungkan beberapa kolom seperti `Course Name`, `Course Description`, `Skills`, dan `Difficulty Level` ke dalam satu kolom baru bernama `Final Col` yang akan digunakan sebagai fitur input pada sistem rekomendasi berbasis content-based filtering"
      ],
      "metadata": {
        "id": "lH7Q1cjAUGcz"
      }
    },
    {
      "cell_type": "code",
      "source": [
        "df"
      ],
      "metadata": {
        "colab": {
          "base_uri": "https://localhost:8080/",
          "height": 857
        },
        "id": "EyCE_5b_sijw",
        "outputId": "0c8d4e2a-08d5-4f9d-8c29-938881febe8f"
      },
      "execution_count": 25,
      "outputs": [
        {
          "output_type": "execute_result",
          "data": {
            "text/plain": [
              "                                            Course Name  \\\n",
              "0     Write A Feature Length Screenplay For Film Or ...   \n",
              "1     Business Strategy  Business Model Canvas Analy...   \n",
              "2                         Silicon Thin Film Solar Cells   \n",
              "3                                  Finance for Managers   \n",
              "4          Retrieve Data using Single Table SQL Queries   \n",
              "...                                                 ...   \n",
              "3517  Capstone  Retrieving  Processing  and Visualiz...   \n",
              "3518                   Patrick Henry  Forgotten Founder   \n",
              "3519  Business intelligence and data analytics  Gene...   \n",
              "3520                                Rigid Body Dynamics   \n",
              "3521  Architecting with Google Kubernetes Engine  Pr...   \n",
              "\n",
              "                                             University Difficulty Level  \\\n",
              "0                             Michigan State University         Beginner   \n",
              "1                              Coursera Project Network         Beginner   \n",
              "2                                   �cole Polytechnique         Advanced   \n",
              "3                                  IESE Business School     Intermediate   \n",
              "4                              Coursera Project Network         Beginner   \n",
              "...                                                 ...              ...   \n",
              "3517                             University of Michigan         Beginner   \n",
              "3518                             University of Virginia     Intermediate   \n",
              "3519                               Macquarie University         Advanced   \n",
              "3520  Korea Advanced Institute of Science and Techno...         Beginner   \n",
              "3521                                       Google Cloud     Intermediate   \n",
              "\n",
              "      Course Rating                                         Course URL  \\\n",
              "0               4.8  https://www.coursera.org/learn/write-a-feature...   \n",
              "1               4.8  https://www.coursera.org/learn/canvas-analysis...   \n",
              "2               4.1  https://www.coursera.org/learn/silicon-thin-fi...   \n",
              "3               4.8  https://www.coursera.org/learn/operational-fin...   \n",
              "4               4.6  https://www.coursera.org/learn/single-table-sq...   \n",
              "...             ...                                                ...   \n",
              "3517            4.6  https://www.coursera.org/learn/python-data-vis...   \n",
              "3518            4.9               https://www.coursera.org/learn/henry   \n",
              "3519            4.6  https://www.coursera.org/learn/business-intell...   \n",
              "3520            4.6  https://www.coursera.org/learn/rigid-body-dyna...   \n",
              "3521            4.7  https://www.coursera.org/learn/deploying-secur...   \n",
              "\n",
              "                                     Course Description  \\\n",
              "0     Write a Full Length Feature Film Script  In th...   \n",
              "1     By the end of this guided project  you will be...   \n",
              "2     This course consists of a general presentation...   \n",
              "3     When it comes to numbers  there is always more...   \n",
              "4     In this course you�ll learn how to effectively...   \n",
              "...                                                 ...   \n",
              "3517  In the capstone  students will build a series ...   \n",
              "3518  �Give me liberty  or give me death � Rememberi...   \n",
              "3519  �Megatrends� heavily influence today�s organis...   \n",
              "3520  This course teaches dynamics  one of the basic...   \n",
              "3521  In this course  \"Architecting with Google Kube...   \n",
              "\n",
              "                                                 Skills  \\\n",
              "0     Drama  Comedy  peering  screenwriting  film  D...   \n",
              "1     Finance  business plan  persona  user experien...   \n",
              "2     chemistry  physics  Solar Energy  film  lambda...   \n",
              "3     accounts receivable  dupont analysis  analysis...   \n",
              "4     Data Analysis  select  sql   database manageme...   \n",
              "...                                                 ...   \n",
              "3517  Databases  syntax  analysis  web  Data Visuali...   \n",
              "3518  retirement  Causality  career  history of the ...   \n",
              "3519  analytics  tableau software  Business Intellig...   \n",
              "3520  Angular  Mechanical Design  fluid mechanics  F...   \n",
              "3521  bigtable  bigquery  SQL  Google Cloud Platform...   \n",
              "\n",
              "                                              Final Col  \n",
              "0     Write A Feature Length Screenplay For Film Or ...  \n",
              "1     Business Strategy  Business Model Canvas Analy...  \n",
              "2     Silicon Thin Film Solar Cells This course cons...  \n",
              "3     Finance for Managers When it comes to numbers ...  \n",
              "4     Retrieve Data using Single Table SQL Queries I...  \n",
              "...                                                 ...  \n",
              "3517  Capstone  Retrieving  Processing  and Visualiz...  \n",
              "3518  Patrick Henry  Forgotten Founder �Give me libe...  \n",
              "3519  Business intelligence and data analytics  Gene...  \n",
              "3520  Rigid Body Dynamics This course teaches dynami...  \n",
              "3521  Architecting with Google Kubernetes Engine  Pr...  \n",
              "\n",
              "[3424 rows x 8 columns]"
            ],
            "text/html": [
              "\n",
              "  <div id=\"df-df0457fc-d313-4a93-9d7f-b069721c344f\" class=\"colab-df-container\">\n",
              "    <div>\n",
              "<style scoped>\n",
              "    .dataframe tbody tr th:only-of-type {\n",
              "        vertical-align: middle;\n",
              "    }\n",
              "\n",
              "    .dataframe tbody tr th {\n",
              "        vertical-align: top;\n",
              "    }\n",
              "\n",
              "    .dataframe thead th {\n",
              "        text-align: right;\n",
              "    }\n",
              "</style>\n",
              "<table border=\"1\" class=\"dataframe\">\n",
              "  <thead>\n",
              "    <tr style=\"text-align: right;\">\n",
              "      <th></th>\n",
              "      <th>Course Name</th>\n",
              "      <th>University</th>\n",
              "      <th>Difficulty Level</th>\n",
              "      <th>Course Rating</th>\n",
              "      <th>Course URL</th>\n",
              "      <th>Course Description</th>\n",
              "      <th>Skills</th>\n",
              "      <th>Final Col</th>\n",
              "    </tr>\n",
              "  </thead>\n",
              "  <tbody>\n",
              "    <tr>\n",
              "      <th>0</th>\n",
              "      <td>Write A Feature Length Screenplay For Film Or ...</td>\n",
              "      <td>Michigan State University</td>\n",
              "      <td>Beginner</td>\n",
              "      <td>4.8</td>\n",
              "      <td>https://www.coursera.org/learn/write-a-feature...</td>\n",
              "      <td>Write a Full Length Feature Film Script  In th...</td>\n",
              "      <td>Drama  Comedy  peering  screenwriting  film  D...</td>\n",
              "      <td>Write A Feature Length Screenplay For Film Or ...</td>\n",
              "    </tr>\n",
              "    <tr>\n",
              "      <th>1</th>\n",
              "      <td>Business Strategy  Business Model Canvas Analy...</td>\n",
              "      <td>Coursera Project Network</td>\n",
              "      <td>Beginner</td>\n",
              "      <td>4.8</td>\n",
              "      <td>https://www.coursera.org/learn/canvas-analysis...</td>\n",
              "      <td>By the end of this guided project  you will be...</td>\n",
              "      <td>Finance  business plan  persona  user experien...</td>\n",
              "      <td>Business Strategy  Business Model Canvas Analy...</td>\n",
              "    </tr>\n",
              "    <tr>\n",
              "      <th>2</th>\n",
              "      <td>Silicon Thin Film Solar Cells</td>\n",
              "      <td>�cole Polytechnique</td>\n",
              "      <td>Advanced</td>\n",
              "      <td>4.1</td>\n",
              "      <td>https://www.coursera.org/learn/silicon-thin-fi...</td>\n",
              "      <td>This course consists of a general presentation...</td>\n",
              "      <td>chemistry  physics  Solar Energy  film  lambda...</td>\n",
              "      <td>Silicon Thin Film Solar Cells This course cons...</td>\n",
              "    </tr>\n",
              "    <tr>\n",
              "      <th>3</th>\n",
              "      <td>Finance for Managers</td>\n",
              "      <td>IESE Business School</td>\n",
              "      <td>Intermediate</td>\n",
              "      <td>4.8</td>\n",
              "      <td>https://www.coursera.org/learn/operational-fin...</td>\n",
              "      <td>When it comes to numbers  there is always more...</td>\n",
              "      <td>accounts receivable  dupont analysis  analysis...</td>\n",
              "      <td>Finance for Managers When it comes to numbers ...</td>\n",
              "    </tr>\n",
              "    <tr>\n",
              "      <th>4</th>\n",
              "      <td>Retrieve Data using Single Table SQL Queries</td>\n",
              "      <td>Coursera Project Network</td>\n",
              "      <td>Beginner</td>\n",
              "      <td>4.6</td>\n",
              "      <td>https://www.coursera.org/learn/single-table-sq...</td>\n",
              "      <td>In this course you�ll learn how to effectively...</td>\n",
              "      <td>Data Analysis  select  sql   database manageme...</td>\n",
              "      <td>Retrieve Data using Single Table SQL Queries I...</td>\n",
              "    </tr>\n",
              "    <tr>\n",
              "      <th>...</th>\n",
              "      <td>...</td>\n",
              "      <td>...</td>\n",
              "      <td>...</td>\n",
              "      <td>...</td>\n",
              "      <td>...</td>\n",
              "      <td>...</td>\n",
              "      <td>...</td>\n",
              "      <td>...</td>\n",
              "    </tr>\n",
              "    <tr>\n",
              "      <th>3517</th>\n",
              "      <td>Capstone  Retrieving  Processing  and Visualiz...</td>\n",
              "      <td>University of Michigan</td>\n",
              "      <td>Beginner</td>\n",
              "      <td>4.6</td>\n",
              "      <td>https://www.coursera.org/learn/python-data-vis...</td>\n",
              "      <td>In the capstone  students will build a series ...</td>\n",
              "      <td>Databases  syntax  analysis  web  Data Visuali...</td>\n",
              "      <td>Capstone  Retrieving  Processing  and Visualiz...</td>\n",
              "    </tr>\n",
              "    <tr>\n",
              "      <th>3518</th>\n",
              "      <td>Patrick Henry  Forgotten Founder</td>\n",
              "      <td>University of Virginia</td>\n",
              "      <td>Intermediate</td>\n",
              "      <td>4.9</td>\n",
              "      <td>https://www.coursera.org/learn/henry</td>\n",
              "      <td>�Give me liberty  or give me death � Rememberi...</td>\n",
              "      <td>retirement  Causality  career  history of the ...</td>\n",
              "      <td>Patrick Henry  Forgotten Founder �Give me libe...</td>\n",
              "    </tr>\n",
              "    <tr>\n",
              "      <th>3519</th>\n",
              "      <td>Business intelligence and data analytics  Gene...</td>\n",
              "      <td>Macquarie University</td>\n",
              "      <td>Advanced</td>\n",
              "      <td>4.6</td>\n",
              "      <td>https://www.coursera.org/learn/business-intell...</td>\n",
              "      <td>�Megatrends� heavily influence today�s organis...</td>\n",
              "      <td>analytics  tableau software  Business Intellig...</td>\n",
              "      <td>Business intelligence and data analytics  Gene...</td>\n",
              "    </tr>\n",
              "    <tr>\n",
              "      <th>3520</th>\n",
              "      <td>Rigid Body Dynamics</td>\n",
              "      <td>Korea Advanced Institute of Science and Techno...</td>\n",
              "      <td>Beginner</td>\n",
              "      <td>4.6</td>\n",
              "      <td>https://www.coursera.org/learn/rigid-body-dyna...</td>\n",
              "      <td>This course teaches dynamics  one of the basic...</td>\n",
              "      <td>Angular  Mechanical Design  fluid mechanics  F...</td>\n",
              "      <td>Rigid Body Dynamics This course teaches dynami...</td>\n",
              "    </tr>\n",
              "    <tr>\n",
              "      <th>3521</th>\n",
              "      <td>Architecting with Google Kubernetes Engine  Pr...</td>\n",
              "      <td>Google Cloud</td>\n",
              "      <td>Intermediate</td>\n",
              "      <td>4.7</td>\n",
              "      <td>https://www.coursera.org/learn/deploying-secur...</td>\n",
              "      <td>In this course  \"Architecting with Google Kube...</td>\n",
              "      <td>bigtable  bigquery  SQL  Google Cloud Platform...</td>\n",
              "      <td>Architecting with Google Kubernetes Engine  Pr...</td>\n",
              "    </tr>\n",
              "  </tbody>\n",
              "</table>\n",
              "<p>3424 rows × 8 columns</p>\n",
              "</div>\n",
              "    <div class=\"colab-df-buttons\">\n",
              "\n",
              "  <div class=\"colab-df-container\">\n",
              "    <button class=\"colab-df-convert\" onclick=\"convertToInteractive('df-df0457fc-d313-4a93-9d7f-b069721c344f')\"\n",
              "            title=\"Convert this dataframe to an interactive table.\"\n",
              "            style=\"display:none;\">\n",
              "\n",
              "  <svg xmlns=\"http://www.w3.org/2000/svg\" height=\"24px\" viewBox=\"0 -960 960 960\">\n",
              "    <path d=\"M120-120v-720h720v720H120Zm60-500h600v-160H180v160Zm220 220h160v-160H400v160Zm0 220h160v-160H400v160ZM180-400h160v-160H180v160Zm440 0h160v-160H620v160ZM180-180h160v-160H180v160Zm440 0h160v-160H620v160Z\"/>\n",
              "  </svg>\n",
              "    </button>\n",
              "\n",
              "  <style>\n",
              "    .colab-df-container {\n",
              "      display:flex;\n",
              "      gap: 12px;\n",
              "    }\n",
              "\n",
              "    .colab-df-convert {\n",
              "      background-color: #E8F0FE;\n",
              "      border: none;\n",
              "      border-radius: 50%;\n",
              "      cursor: pointer;\n",
              "      display: none;\n",
              "      fill: #1967D2;\n",
              "      height: 32px;\n",
              "      padding: 0 0 0 0;\n",
              "      width: 32px;\n",
              "    }\n",
              "\n",
              "    .colab-df-convert:hover {\n",
              "      background-color: #E2EBFA;\n",
              "      box-shadow: 0px 1px 2px rgba(60, 64, 67, 0.3), 0px 1px 3px 1px rgba(60, 64, 67, 0.15);\n",
              "      fill: #174EA6;\n",
              "    }\n",
              "\n",
              "    .colab-df-buttons div {\n",
              "      margin-bottom: 4px;\n",
              "    }\n",
              "\n",
              "    [theme=dark] .colab-df-convert {\n",
              "      background-color: #3B4455;\n",
              "      fill: #D2E3FC;\n",
              "    }\n",
              "\n",
              "    [theme=dark] .colab-df-convert:hover {\n",
              "      background-color: #434B5C;\n",
              "      box-shadow: 0px 1px 3px 1px rgba(0, 0, 0, 0.15);\n",
              "      filter: drop-shadow(0px 1px 2px rgba(0, 0, 0, 0.3));\n",
              "      fill: #FFFFFF;\n",
              "    }\n",
              "  </style>\n",
              "\n",
              "    <script>\n",
              "      const buttonEl =\n",
              "        document.querySelector('#df-df0457fc-d313-4a93-9d7f-b069721c344f button.colab-df-convert');\n",
              "      buttonEl.style.display =\n",
              "        google.colab.kernel.accessAllowed ? 'block' : 'none';\n",
              "\n",
              "      async function convertToInteractive(key) {\n",
              "        const element = document.querySelector('#df-df0457fc-d313-4a93-9d7f-b069721c344f');\n",
              "        const dataTable =\n",
              "          await google.colab.kernel.invokeFunction('convertToInteractive',\n",
              "                                                    [key], {});\n",
              "        if (!dataTable) return;\n",
              "\n",
              "        const docLinkHtml = 'Like what you see? Visit the ' +\n",
              "          '<a target=\"_blank\" href=https://colab.research.google.com/notebooks/data_table.ipynb>data table notebook</a>'\n",
              "          + ' to learn more about interactive tables.';\n",
              "        element.innerHTML = '';\n",
              "        dataTable['output_type'] = 'display_data';\n",
              "        await google.colab.output.renderOutput(dataTable, element);\n",
              "        const docLink = document.createElement('div');\n",
              "        docLink.innerHTML = docLinkHtml;\n",
              "        element.appendChild(docLink);\n",
              "      }\n",
              "    </script>\n",
              "  </div>\n",
              "\n",
              "\n",
              "    <div id=\"df-001245b2-7eb9-4e95-ac6b-f6f71f5daa22\">\n",
              "      <button class=\"colab-df-quickchart\" onclick=\"quickchart('df-001245b2-7eb9-4e95-ac6b-f6f71f5daa22')\"\n",
              "                title=\"Suggest charts\"\n",
              "                style=\"display:none;\">\n",
              "\n",
              "<svg xmlns=\"http://www.w3.org/2000/svg\" height=\"24px\"viewBox=\"0 0 24 24\"\n",
              "     width=\"24px\">\n",
              "    <g>\n",
              "        <path d=\"M19 3H5c-1.1 0-2 .9-2 2v14c0 1.1.9 2 2 2h14c1.1 0 2-.9 2-2V5c0-1.1-.9-2-2-2zM9 17H7v-7h2v7zm4 0h-2V7h2v10zm4 0h-2v-4h2v4z\"/>\n",
              "    </g>\n",
              "</svg>\n",
              "      </button>\n",
              "\n",
              "<style>\n",
              "  .colab-df-quickchart {\n",
              "      --bg-color: #E8F0FE;\n",
              "      --fill-color: #1967D2;\n",
              "      --hover-bg-color: #E2EBFA;\n",
              "      --hover-fill-color: #174EA6;\n",
              "      --disabled-fill-color: #AAA;\n",
              "      --disabled-bg-color: #DDD;\n",
              "  }\n",
              "\n",
              "  [theme=dark] .colab-df-quickchart {\n",
              "      --bg-color: #3B4455;\n",
              "      --fill-color: #D2E3FC;\n",
              "      --hover-bg-color: #434B5C;\n",
              "      --hover-fill-color: #FFFFFF;\n",
              "      --disabled-bg-color: #3B4455;\n",
              "      --disabled-fill-color: #666;\n",
              "  }\n",
              "\n",
              "  .colab-df-quickchart {\n",
              "    background-color: var(--bg-color);\n",
              "    border: none;\n",
              "    border-radius: 50%;\n",
              "    cursor: pointer;\n",
              "    display: none;\n",
              "    fill: var(--fill-color);\n",
              "    height: 32px;\n",
              "    padding: 0;\n",
              "    width: 32px;\n",
              "  }\n",
              "\n",
              "  .colab-df-quickchart:hover {\n",
              "    background-color: var(--hover-bg-color);\n",
              "    box-shadow: 0 1px 2px rgba(60, 64, 67, 0.3), 0 1px 3px 1px rgba(60, 64, 67, 0.15);\n",
              "    fill: var(--button-hover-fill-color);\n",
              "  }\n",
              "\n",
              "  .colab-df-quickchart-complete:disabled,\n",
              "  .colab-df-quickchart-complete:disabled:hover {\n",
              "    background-color: var(--disabled-bg-color);\n",
              "    fill: var(--disabled-fill-color);\n",
              "    box-shadow: none;\n",
              "  }\n",
              "\n",
              "  .colab-df-spinner {\n",
              "    border: 2px solid var(--fill-color);\n",
              "    border-color: transparent;\n",
              "    border-bottom-color: var(--fill-color);\n",
              "    animation:\n",
              "      spin 1s steps(1) infinite;\n",
              "  }\n",
              "\n",
              "  @keyframes spin {\n",
              "    0% {\n",
              "      border-color: transparent;\n",
              "      border-bottom-color: var(--fill-color);\n",
              "      border-left-color: var(--fill-color);\n",
              "    }\n",
              "    20% {\n",
              "      border-color: transparent;\n",
              "      border-left-color: var(--fill-color);\n",
              "      border-top-color: var(--fill-color);\n",
              "    }\n",
              "    30% {\n",
              "      border-color: transparent;\n",
              "      border-left-color: var(--fill-color);\n",
              "      border-top-color: var(--fill-color);\n",
              "      border-right-color: var(--fill-color);\n",
              "    }\n",
              "    40% {\n",
              "      border-color: transparent;\n",
              "      border-right-color: var(--fill-color);\n",
              "      border-top-color: var(--fill-color);\n",
              "    }\n",
              "    60% {\n",
              "      border-color: transparent;\n",
              "      border-right-color: var(--fill-color);\n",
              "    }\n",
              "    80% {\n",
              "      border-color: transparent;\n",
              "      border-right-color: var(--fill-color);\n",
              "      border-bottom-color: var(--fill-color);\n",
              "    }\n",
              "    90% {\n",
              "      border-color: transparent;\n",
              "      border-bottom-color: var(--fill-color);\n",
              "    }\n",
              "  }\n",
              "</style>\n",
              "\n",
              "      <script>\n",
              "        async function quickchart(key) {\n",
              "          const quickchartButtonEl =\n",
              "            document.querySelector('#' + key + ' button');\n",
              "          quickchartButtonEl.disabled = true;  // To prevent multiple clicks.\n",
              "          quickchartButtonEl.classList.add('colab-df-spinner');\n",
              "          try {\n",
              "            const charts = await google.colab.kernel.invokeFunction(\n",
              "                'suggestCharts', [key], {});\n",
              "          } catch (error) {\n",
              "            console.error('Error during call to suggestCharts:', error);\n",
              "          }\n",
              "          quickchartButtonEl.classList.remove('colab-df-spinner');\n",
              "          quickchartButtonEl.classList.add('colab-df-quickchart-complete');\n",
              "        }\n",
              "        (() => {\n",
              "          let quickchartButtonEl =\n",
              "            document.querySelector('#df-001245b2-7eb9-4e95-ac6b-f6f71f5daa22 button');\n",
              "          quickchartButtonEl.style.display =\n",
              "            google.colab.kernel.accessAllowed ? 'block' : 'none';\n",
              "        })();\n",
              "      </script>\n",
              "    </div>\n",
              "\n",
              "  <div id=\"id_98e2f974-1ba5-4525-a019-f882b3b17864\">\n",
              "    <style>\n",
              "      .colab-df-generate {\n",
              "        background-color: #E8F0FE;\n",
              "        border: none;\n",
              "        border-radius: 50%;\n",
              "        cursor: pointer;\n",
              "        display: none;\n",
              "        fill: #1967D2;\n",
              "        height: 32px;\n",
              "        padding: 0 0 0 0;\n",
              "        width: 32px;\n",
              "      }\n",
              "\n",
              "      .colab-df-generate:hover {\n",
              "        background-color: #E2EBFA;\n",
              "        box-shadow: 0px 1px 2px rgba(60, 64, 67, 0.3), 0px 1px 3px 1px rgba(60, 64, 67, 0.15);\n",
              "        fill: #174EA6;\n",
              "      }\n",
              "\n",
              "      [theme=dark] .colab-df-generate {\n",
              "        background-color: #3B4455;\n",
              "        fill: #D2E3FC;\n",
              "      }\n",
              "\n",
              "      [theme=dark] .colab-df-generate:hover {\n",
              "        background-color: #434B5C;\n",
              "        box-shadow: 0px 1px 3px 1px rgba(0, 0, 0, 0.15);\n",
              "        filter: drop-shadow(0px 1px 2px rgba(0, 0, 0, 0.3));\n",
              "        fill: #FFFFFF;\n",
              "      }\n",
              "    </style>\n",
              "    <button class=\"colab-df-generate\" onclick=\"generateWithVariable('df')\"\n",
              "            title=\"Generate code using this dataframe.\"\n",
              "            style=\"display:none;\">\n",
              "\n",
              "  <svg xmlns=\"http://www.w3.org/2000/svg\" height=\"24px\"viewBox=\"0 0 24 24\"\n",
              "       width=\"24px\">\n",
              "    <path d=\"M7,19H8.4L18.45,9,17,7.55,7,17.6ZM5,21V16.75L18.45,3.32a2,2,0,0,1,2.83,0l1.4,1.43a1.91,1.91,0,0,1,.58,1.4,1.91,1.91,0,0,1-.58,1.4L9.25,21ZM18.45,9,17,7.55Zm-12,3A5.31,5.31,0,0,0,4.9,8.1,5.31,5.31,0,0,0,1,6.5,5.31,5.31,0,0,0,4.9,4.9,5.31,5.31,0,0,0,6.5,1,5.31,5.31,0,0,0,8.1,4.9,5.31,5.31,0,0,0,12,6.5,5.46,5.46,0,0,0,6.5,12Z\"/>\n",
              "  </svg>\n",
              "    </button>\n",
              "    <script>\n",
              "      (() => {\n",
              "      const buttonEl =\n",
              "        document.querySelector('#id_98e2f974-1ba5-4525-a019-f882b3b17864 button.colab-df-generate');\n",
              "      buttonEl.style.display =\n",
              "        google.colab.kernel.accessAllowed ? 'block' : 'none';\n",
              "\n",
              "      buttonEl.onclick = () => {\n",
              "        google.colab.notebook.generateWithVariable('df');\n",
              "      }\n",
              "      })();\n",
              "    </script>\n",
              "  </div>\n",
              "\n",
              "    </div>\n",
              "  </div>\n"
            ],
            "application/vnd.google.colaboratory.intrinsic+json": {
              "type": "dataframe",
              "variable_name": "df",
              "summary": "{\n  \"name\": \"df\",\n  \"rows\": 3424,\n  \"fields\": [\n    {\n      \"column\": \"Course Name\",\n      \"properties\": {\n        \"dtype\": \"string\",\n        \"num_unique_values\": 3416,\n        \"samples\": [\n          \"Create a Record of Students using Arrays in Java\",\n          \"Fundamentals of financial and management accounting\",\n          \"When Disaster Meets Conflict\"\n        ],\n        \"semantic_type\": \"\",\n        \"description\": \"\"\n      }\n    },\n    {\n      \"column\": \"University\",\n      \"properties\": {\n        \"dtype\": \"category\",\n        \"num_unique_values\": 184,\n        \"samples\": [\n          \"The University of Edinburgh\",\n          \"American Museum of Natural History\",\n          \"Alibaba Cloud Academy\"\n        ],\n        \"semantic_type\": \"\",\n        \"description\": \"\"\n      }\n    },\n    {\n      \"column\": \"Difficulty Level\",\n      \"properties\": {\n        \"dtype\": \"category\",\n        \"num_unique_values\": 4,\n        \"samples\": [\n          \"Advanced\",\n          \"Conversant\",\n          \"Beginner\"\n        ],\n        \"semantic_type\": \"\",\n        \"description\": \"\"\n      }\n    },\n    {\n      \"column\": \"Course Rating\",\n      \"properties\": {\n        \"dtype\": \"number\",\n        \"std\": 0.3366070765235017,\n        \"min\": 1.0,\n        \"max\": 5.0,\n        \"num_unique_values\": 30,\n        \"samples\": [\n          1.0,\n          3.0,\n          3.1\n        ],\n        \"semantic_type\": \"\",\n        \"description\": \"\"\n      }\n    },\n    {\n      \"column\": \"Course URL\",\n      \"properties\": {\n        \"dtype\": \"string\",\n        \"num_unique_values\": 3424,\n        \"samples\": [\n          \"https://www.coursera.org/learn/city-and-you-find-best-place\",\n          \"https://www.coursera.org/learn/user-research\",\n          \"https://www.coursera.org/learn/people-management\"\n        ],\n        \"semantic_type\": \"\",\n        \"description\": \"\"\n      }\n    },\n    {\n      \"column\": \"Course Description\",\n      \"properties\": {\n        \"dtype\": \"string\",\n        \"num_unique_values\": 3397,\n        \"samples\": [\n          \"This course can also be taken for academic credit as ECEA 5317  part of CU Boulder\\ufffds Master of Science in Electrical Engineering degree   Upon completion of this course the learner will know the difference between systems you can bet your life on (mission critical) and those which provide predictable response and quality of service (reliable)   This will be achieved not only by study of design methods and patterns for mission critical systems  but also through implementation of soft real time systems and comparison to hard real time   Methods of verification to determine ability to meet mission critical as well as soft real time requirements will be learned so that the learner can properly assess risk  reliability and impact of failure in real time systems   At the end of this course learners will be able to apply an architectural style (cyclic executive  RTOS  or embedded Linux) to more detailed design of a mission critical system  a soft real time system  or a mixed hard and soft real time system  including   ?\\\\tThorough understanding of hardware/software device interfaces and resource view for hardware abstraction layers (HAL  BSP) ?\\\\tDesign trade offs with different real time hardware architectures including single core  multi core  hybrid FPGA  GP GPU  and DSP systems  with emphasis on multi core ?\\\\tMission critical embedded systems architecture and key design elements ?\\\\tFault tolerant processing  memory  and I/O concepts\",\n          \"Financial Accounting is often called the language of business; it is the language that managers use to communicate the firm's financial and economic information to external parties such as shareholders and creditors  Nobody working in business can afford financial illiteracy  Whether you run your own business  work as a manager or are just starting your career  you want to understand financial information and be able to interact with accountants  controllers  and financial managers  You want to talk business!   This course will provide you with the accounting language's essentials  Upon completion  you should be able to read and interpret financial statements for business diagnosis and decision making  More importantly  you will possess the conceptual base to keep learning more sophisticated accounting and finance on your own  Do not forget that  as with any other language  becoming proficient with accounting requires constant practice \",\n          \"Build on the software engineering skills you learned in \\ufffdJava Programming  Solving Problems with Software\\ufffd by learning new data structures  Use these data structures to build more complex programs that use Java\\ufffds object oriented features  At the end of the course you will write an encryption program and a program to break your encryption algorithm   After completing this course  you will be able to  1  Read and write data from/to files; 2  Solve problems involving data files; 3  Perform quantitative analyses of data (e g   finding maximums  minimums  averages);  4  Store and manipulate data in an array or ArrayList; 5  Combine multiple classes to solve larger problems; 6  Use iterables and collections (including maps) in Java \"\n        ],\n        \"semantic_type\": \"\",\n        \"description\": \"\"\n      }\n    },\n    {\n      \"column\": \"Skills\",\n      \"properties\": {\n        \"dtype\": \"string\",\n        \"num_unique_values\": 3424,\n        \"samples\": [\n          \"economy  pandemic  global city  financial centre  crisis  global  curiosity  slum  emerging markets  Creativity social sciences governance and society\",\n          \"i deas  User Experience  Human Computer Interaction  thought  Map  experience  interview  interaction design  persona  user experience   User Research computer science design and product\",\n          \"Leadership and Management  organizational conflict  leadership  Human Resources  conflict resolution  performance appraisal  Conflict Management  interview  Performance Management  performance business leadership and management\"\n        ],\n        \"semantic_type\": \"\",\n        \"description\": \"\"\n      }\n    },\n    {\n      \"column\": \"Final Col\",\n      \"properties\": {\n        \"dtype\": \"string\",\n        \"num_unique_values\": 3424,\n        \"samples\": [\n          \"The City and You  Find Your Best Place Welcome to The City and You  Find Your Best Place  I'm excited to have you in the class and look forward to your contributions to the other learners in our community   This free course will provide the knowledge and  the tools needed to understand what cities do  why they matter  the forces shaping the greatest wave of urbanization in history  and how to pick the right place for you  The course will also help you develop critical thinking skills  We'll accomplish this by providing evidence of the importance of cities  and why and how they matter to you  Then we\\ufffdll ask you to apply what you\\ufffdve learned in an exercise which will help you assess your own community and find your best place    This course is accessible and open to anyone who is interested in learning more about cities and the ways they affect our lives  It is organized around five key modules  (1) Why Cities Matter   (2) A World of Cities   (3) The Creative City  (4) The Divided City and the New Urban Crisis  and (5) How to Find the Best Place for You    After completing the course  you will be able to    (1) Identify why cities are the drivers of economic prosperity; (2) Explain the drivers and implications of fast growing urbanization worldwide; (3) Outline the key characteristics of a creative and innovative city; (4) Describe the social divides and challenges facing cities and the solutions cities are using to address them; and (5) Recognize the trade offs of staying in your current city versus moving  and identify the best place for you and your family to live   Of course the world has changed a great deal since I developed this course  The Global COVID 19 Pandemic is affecting cities  businesses and people around the world  It is something I have been writing about and working with mayors  city managers  economic developers  urban leaders and communities across the globe  I have put together a new module on Cities and the Coronavirus to help you better understand the ways in which the Covid 19 crisis is impacting cities and how you can best understand  and deal with that   I\\ufffdd like to wish each and every one of you good luck as you get started on this journey  I hope you enjoy the course! economy  pandemic  global city  financial centre  crisis  global  curiosity  slum  emerging markets  Creativity social sciences governance and society Beginner\",\n          \"User Experience  Research & Prototyping What makes for a great user experience? How can you consistently design experiences that work well  are easy to use and  people want to use? This course will teach you the core process of experience design and how to effectively evaluate your work with the people for whom you are designing  You'll learn fundamental methods of design research that will enable  you to effectively understand people  the sequences of their actions  and the context in which they work  Through the assignments  you\\ufffdll learn practical techniques for making sense of what you see and transform your observations into meaningful actionable insights and unique opportunity areas for design   You\\ufffdll also explore how to generate ideas in response to the opportunities identified and learn methods for making your ideas tangible  By answering specific questions and refining your concepts  you\\ufffdll move closer to making your ideas real  We\\ufffdll use cases from a variety of industries including health  education  transportation  finance  and beyond to illustrate how these methods work across different domains    Good luck and we hope you enjoy the course! i deas  User Experience  Human Computer Interaction  thought  Map  experience  interview  interaction design  persona  user experience   User Research computer science design and product Advanced\",\n          \"The Manager's Toolkit  A Practical Guide to Managing People at Work The aim of this course is to give you a practical guide to managing people at work  It does not matter whether you are a first time manager in a shop or a middle manager in an office environment; the same skills apply to every work place  In the course you will engage with some HR theories and then see how they translate into every day working life    At the end of the course we hope you will be better equipped to choose a suitable employee  to motivate and appraise your team  to manage conflict in the work place and to lead and make decision on a day to day basis  Leadership and Management  organizational conflict  leadership  Human Resources  conflict resolution  performance appraisal  Conflict Management  interview  Performance Management  performance business leadership and management Beginner\"\n        ],\n        \"semantic_type\": \"\",\n        \"description\": \"\"\n      }\n    }\n  ]\n}"
            }
          },
          "metadata": {},
          "execution_count": 25
        }
      ]
    },
    {
      "cell_type": "markdown",
      "source": [
        "**Ekstraksi Fitur Teks**"
      ],
      "metadata": {
        "id": "E7-OuKP7Uj_y"
      }
    },
    {
      "cell_type": "code",
      "source": [
        "# Inisialisasi TF-IDF vectorizer dengan stop words bahasa Inggris\n",
        "vectorizer = TfidfVectorizer(stop_words='english')\n",
        "\n",
        "# Mengisi nilai kosong dengan string kosong\n",
        "df.loc[:, 'Final Col'] = df['Final Col'].fillna('')\n",
        "# Membuat matriks TF-IDF dari kolom teks\n",
        "tfidf_matrix = vectorizer.fit_transform(df['Final Col'])"
      ],
      "metadata": {
        "id": "YhoFeUXyzDdv"
      },
      "execution_count": 26,
      "outputs": []
    },
    {
      "cell_type": "markdown",
      "source": [
        "Mengonversi kolom `Final Col` menjadi fitur numerik berbobot menggunakan TF-IDF untuk memungkinkan pemodelan kemiripan antar kursus berdasarkan deskripsi, nama, skill, dan tingkat kesulitan."
      ],
      "metadata": {
        "id": "lm7WrXJaVGVK"
      }
    },
    {
      "cell_type": "markdown",
      "source": [
        "# **Modeling**"
      ],
      "metadata": {
        "id": "tQWONTxbUvOl"
      }
    },
    {
      "cell_type": "markdown",
      "source": [
        "**Similarity Calculation**"
      ],
      "metadata": {
        "id": "LXASzQy9YY9m"
      }
    },
    {
      "cell_type": "code",
      "source": [
        "cosine_sim_matrix = cosine_similarity(tfidf_matrix)"
      ],
      "metadata": {
        "id": "2KDYAWodzeR3"
      },
      "execution_count": 27,
      "outputs": []
    },
    {
      "cell_type": "markdown",
      "source": [
        "Menghitung kemiripan antar kursus berdasarkan hasil ekstraksi fitur TF-IDF dari kolom Final Col, yang telah merepresentasikan informasi gabungan dari beberapa fitur"
      ],
      "metadata": {
        "id": "COd5KMh6bOAJ"
      }
    },
    {
      "cell_type": "markdown",
      "source": [
        "**Index Mapping**"
      ],
      "metadata": {
        "id": "GM26likublci"
      }
    },
    {
      "cell_type": "code",
      "source": [
        "indices = pd.Series(df.index, index=df['Course Name']).drop_duplicates()"
      ],
      "metadata": {
        "id": "wsfFErx1yGeD"
      },
      "execution_count": 28,
      "outputs": []
    },
    {
      "cell_type": "markdown",
      "source": [
        "Membuat pemetaan antara `Course Name` dengan indeks baris dalam DataFrame. untuk membantu mengambil posisi kursus tertentu dalam matriks kemiripan berdasarkan nama kursus yang diberikan oleh pengguna."
      ],
      "metadata": {
        "id": "oUynfoolbtBC"
      }
    },
    {
      "cell_type": "markdown",
      "source": [
        "**Course Recommendation**"
      ],
      "metadata": {
        "id": "8h5Pg0t2cWHY"
      }
    },
    {
      "cell_type": "code",
      "source": [
        "def get_recommendations(title, cosine_sim=cosine_sim_matrix):\n",
        "    # Mengambil indeks dari judul yang diberikan\n",
        "    idx = indices[title]\n",
        "\n",
        "    # Menghitung skor kesamaan antara item tersebut dan semua item lainnya\n",
        "    similarity_scores = list(enumerate(cosine_sim[idx]))\n",
        "\n",
        "    # Mengurutkan berdasarkan skor kesamaan tertinggi\n",
        "    similarity_scores = sorted(similarity_scores, key=lambda x: x[1], reverse=True)\n",
        "\n",
        "    # Mengambil 5 item teratas selain dirinya sendiri\n",
        "    top_scores = similarity_scores[1:6]\n",
        "\n",
        "    # Membuat tabel rekomendasi\n",
        "    recommendations = pd.DataFrame({\n",
        "        'Rekomendasi': df['Course Name'].iloc[[i[0] for i in top_scores]].values,\n",
        "        'Similarity': [i[1] for i in top_scores]\n",
        "    })\n",
        "\n",
        "    return recommendations"
      ],
      "metadata": {
        "id": "X7wHBKzT0s6y"
      },
      "execution_count": 29,
      "outputs": []
    },
    {
      "cell_type": "markdown",
      "source": [
        "Menghasilkan rekomendasi kursus berdasarkan kursus yang dipilih pengguna deengan memanfaatkan `cosine_sim_matrix` untuk mencari kursus-kursus lain yang paling mirip berdasarkan konten deskriptif yang sudah ditransformasikan ke dalam bentuk numerik dengan TF-IDF."
      ],
      "metadata": {
        "id": "YjW2prb0cjbf"
      }
    },
    {
      "cell_type": "code",
      "source": [
        "get_recommendations('Finance for Managers')"
      ],
      "metadata": {
        "colab": {
          "base_uri": "https://localhost:8080/",
          "height": 206
        },
        "id": "PV-zpbKl0zqp",
        "outputId": "8e38bce4-1e06-4c54-d707-c1ace1188d16"
      },
      "execution_count": 30,
      "outputs": [
        {
          "output_type": "execute_result",
          "data": {
            "text/plain": [
              "                                         Rekomendasi  Similarity\n",
              "0                 Finance for Non Financial Managers    0.410144\n",
              "1  Fundamentals of financial and management accou...    0.379969\n",
              "2  Understanding Financial Statements  Company Po...    0.360709\n",
              "3        Accounting and Finance for IT professionals    0.360148\n",
              "4                Introduction to Finance  The Basics    0.356956"
            ],
            "text/html": [
              "\n",
              "  <div id=\"df-83e1d8cc-70fb-4bc8-bd40-7b49fd710bad\" class=\"colab-df-container\">\n",
              "    <div>\n",
              "<style scoped>\n",
              "    .dataframe tbody tr th:only-of-type {\n",
              "        vertical-align: middle;\n",
              "    }\n",
              "\n",
              "    .dataframe tbody tr th {\n",
              "        vertical-align: top;\n",
              "    }\n",
              "\n",
              "    .dataframe thead th {\n",
              "        text-align: right;\n",
              "    }\n",
              "</style>\n",
              "<table border=\"1\" class=\"dataframe\">\n",
              "  <thead>\n",
              "    <tr style=\"text-align: right;\">\n",
              "      <th></th>\n",
              "      <th>Rekomendasi</th>\n",
              "      <th>Similarity</th>\n",
              "    </tr>\n",
              "  </thead>\n",
              "  <tbody>\n",
              "    <tr>\n",
              "      <th>0</th>\n",
              "      <td>Finance for Non Financial Managers</td>\n",
              "      <td>0.410144</td>\n",
              "    </tr>\n",
              "    <tr>\n",
              "      <th>1</th>\n",
              "      <td>Fundamentals of financial and management accou...</td>\n",
              "      <td>0.379969</td>\n",
              "    </tr>\n",
              "    <tr>\n",
              "      <th>2</th>\n",
              "      <td>Understanding Financial Statements  Company Po...</td>\n",
              "      <td>0.360709</td>\n",
              "    </tr>\n",
              "    <tr>\n",
              "      <th>3</th>\n",
              "      <td>Accounting and Finance for IT professionals</td>\n",
              "      <td>0.360148</td>\n",
              "    </tr>\n",
              "    <tr>\n",
              "      <th>4</th>\n",
              "      <td>Introduction to Finance  The Basics</td>\n",
              "      <td>0.356956</td>\n",
              "    </tr>\n",
              "  </tbody>\n",
              "</table>\n",
              "</div>\n",
              "    <div class=\"colab-df-buttons\">\n",
              "\n",
              "  <div class=\"colab-df-container\">\n",
              "    <button class=\"colab-df-convert\" onclick=\"convertToInteractive('df-83e1d8cc-70fb-4bc8-bd40-7b49fd710bad')\"\n",
              "            title=\"Convert this dataframe to an interactive table.\"\n",
              "            style=\"display:none;\">\n",
              "\n",
              "  <svg xmlns=\"http://www.w3.org/2000/svg\" height=\"24px\" viewBox=\"0 -960 960 960\">\n",
              "    <path d=\"M120-120v-720h720v720H120Zm60-500h600v-160H180v160Zm220 220h160v-160H400v160Zm0 220h160v-160H400v160ZM180-400h160v-160H180v160Zm440 0h160v-160H620v160ZM180-180h160v-160H180v160Zm440 0h160v-160H620v160Z\"/>\n",
              "  </svg>\n",
              "    </button>\n",
              "\n",
              "  <style>\n",
              "    .colab-df-container {\n",
              "      display:flex;\n",
              "      gap: 12px;\n",
              "    }\n",
              "\n",
              "    .colab-df-convert {\n",
              "      background-color: #E8F0FE;\n",
              "      border: none;\n",
              "      border-radius: 50%;\n",
              "      cursor: pointer;\n",
              "      display: none;\n",
              "      fill: #1967D2;\n",
              "      height: 32px;\n",
              "      padding: 0 0 0 0;\n",
              "      width: 32px;\n",
              "    }\n",
              "\n",
              "    .colab-df-convert:hover {\n",
              "      background-color: #E2EBFA;\n",
              "      box-shadow: 0px 1px 2px rgba(60, 64, 67, 0.3), 0px 1px 3px 1px rgba(60, 64, 67, 0.15);\n",
              "      fill: #174EA6;\n",
              "    }\n",
              "\n",
              "    .colab-df-buttons div {\n",
              "      margin-bottom: 4px;\n",
              "    }\n",
              "\n",
              "    [theme=dark] .colab-df-convert {\n",
              "      background-color: #3B4455;\n",
              "      fill: #D2E3FC;\n",
              "    }\n",
              "\n",
              "    [theme=dark] .colab-df-convert:hover {\n",
              "      background-color: #434B5C;\n",
              "      box-shadow: 0px 1px 3px 1px rgba(0, 0, 0, 0.15);\n",
              "      filter: drop-shadow(0px 1px 2px rgba(0, 0, 0, 0.3));\n",
              "      fill: #FFFFFF;\n",
              "    }\n",
              "  </style>\n",
              "\n",
              "    <script>\n",
              "      const buttonEl =\n",
              "        document.querySelector('#df-83e1d8cc-70fb-4bc8-bd40-7b49fd710bad button.colab-df-convert');\n",
              "      buttonEl.style.display =\n",
              "        google.colab.kernel.accessAllowed ? 'block' : 'none';\n",
              "\n",
              "      async function convertToInteractive(key) {\n",
              "        const element = document.querySelector('#df-83e1d8cc-70fb-4bc8-bd40-7b49fd710bad');\n",
              "        const dataTable =\n",
              "          await google.colab.kernel.invokeFunction('convertToInteractive',\n",
              "                                                    [key], {});\n",
              "        if (!dataTable) return;\n",
              "\n",
              "        const docLinkHtml = 'Like what you see? Visit the ' +\n",
              "          '<a target=\"_blank\" href=https://colab.research.google.com/notebooks/data_table.ipynb>data table notebook</a>'\n",
              "          + ' to learn more about interactive tables.';\n",
              "        element.innerHTML = '';\n",
              "        dataTable['output_type'] = 'display_data';\n",
              "        await google.colab.output.renderOutput(dataTable, element);\n",
              "        const docLink = document.createElement('div');\n",
              "        docLink.innerHTML = docLinkHtml;\n",
              "        element.appendChild(docLink);\n",
              "      }\n",
              "    </script>\n",
              "  </div>\n",
              "\n",
              "\n",
              "    <div id=\"df-f38b9d88-1692-4e4a-8704-0ebe47296533\">\n",
              "      <button class=\"colab-df-quickchart\" onclick=\"quickchart('df-f38b9d88-1692-4e4a-8704-0ebe47296533')\"\n",
              "                title=\"Suggest charts\"\n",
              "                style=\"display:none;\">\n",
              "\n",
              "<svg xmlns=\"http://www.w3.org/2000/svg\" height=\"24px\"viewBox=\"0 0 24 24\"\n",
              "     width=\"24px\">\n",
              "    <g>\n",
              "        <path d=\"M19 3H5c-1.1 0-2 .9-2 2v14c0 1.1.9 2 2 2h14c1.1 0 2-.9 2-2V5c0-1.1-.9-2-2-2zM9 17H7v-7h2v7zm4 0h-2V7h2v10zm4 0h-2v-4h2v4z\"/>\n",
              "    </g>\n",
              "</svg>\n",
              "      </button>\n",
              "\n",
              "<style>\n",
              "  .colab-df-quickchart {\n",
              "      --bg-color: #E8F0FE;\n",
              "      --fill-color: #1967D2;\n",
              "      --hover-bg-color: #E2EBFA;\n",
              "      --hover-fill-color: #174EA6;\n",
              "      --disabled-fill-color: #AAA;\n",
              "      --disabled-bg-color: #DDD;\n",
              "  }\n",
              "\n",
              "  [theme=dark] .colab-df-quickchart {\n",
              "      --bg-color: #3B4455;\n",
              "      --fill-color: #D2E3FC;\n",
              "      --hover-bg-color: #434B5C;\n",
              "      --hover-fill-color: #FFFFFF;\n",
              "      --disabled-bg-color: #3B4455;\n",
              "      --disabled-fill-color: #666;\n",
              "  }\n",
              "\n",
              "  .colab-df-quickchart {\n",
              "    background-color: var(--bg-color);\n",
              "    border: none;\n",
              "    border-radius: 50%;\n",
              "    cursor: pointer;\n",
              "    display: none;\n",
              "    fill: var(--fill-color);\n",
              "    height: 32px;\n",
              "    padding: 0;\n",
              "    width: 32px;\n",
              "  }\n",
              "\n",
              "  .colab-df-quickchart:hover {\n",
              "    background-color: var(--hover-bg-color);\n",
              "    box-shadow: 0 1px 2px rgba(60, 64, 67, 0.3), 0 1px 3px 1px rgba(60, 64, 67, 0.15);\n",
              "    fill: var(--button-hover-fill-color);\n",
              "  }\n",
              "\n",
              "  .colab-df-quickchart-complete:disabled,\n",
              "  .colab-df-quickchart-complete:disabled:hover {\n",
              "    background-color: var(--disabled-bg-color);\n",
              "    fill: var(--disabled-fill-color);\n",
              "    box-shadow: none;\n",
              "  }\n",
              "\n",
              "  .colab-df-spinner {\n",
              "    border: 2px solid var(--fill-color);\n",
              "    border-color: transparent;\n",
              "    border-bottom-color: var(--fill-color);\n",
              "    animation:\n",
              "      spin 1s steps(1) infinite;\n",
              "  }\n",
              "\n",
              "  @keyframes spin {\n",
              "    0% {\n",
              "      border-color: transparent;\n",
              "      border-bottom-color: var(--fill-color);\n",
              "      border-left-color: var(--fill-color);\n",
              "    }\n",
              "    20% {\n",
              "      border-color: transparent;\n",
              "      border-left-color: var(--fill-color);\n",
              "      border-top-color: var(--fill-color);\n",
              "    }\n",
              "    30% {\n",
              "      border-color: transparent;\n",
              "      border-left-color: var(--fill-color);\n",
              "      border-top-color: var(--fill-color);\n",
              "      border-right-color: var(--fill-color);\n",
              "    }\n",
              "    40% {\n",
              "      border-color: transparent;\n",
              "      border-right-color: var(--fill-color);\n",
              "      border-top-color: var(--fill-color);\n",
              "    }\n",
              "    60% {\n",
              "      border-color: transparent;\n",
              "      border-right-color: var(--fill-color);\n",
              "    }\n",
              "    80% {\n",
              "      border-color: transparent;\n",
              "      border-right-color: var(--fill-color);\n",
              "      border-bottom-color: var(--fill-color);\n",
              "    }\n",
              "    90% {\n",
              "      border-color: transparent;\n",
              "      border-bottom-color: var(--fill-color);\n",
              "    }\n",
              "  }\n",
              "</style>\n",
              "\n",
              "      <script>\n",
              "        async function quickchart(key) {\n",
              "          const quickchartButtonEl =\n",
              "            document.querySelector('#' + key + ' button');\n",
              "          quickchartButtonEl.disabled = true;  // To prevent multiple clicks.\n",
              "          quickchartButtonEl.classList.add('colab-df-spinner');\n",
              "          try {\n",
              "            const charts = await google.colab.kernel.invokeFunction(\n",
              "                'suggestCharts', [key], {});\n",
              "          } catch (error) {\n",
              "            console.error('Error during call to suggestCharts:', error);\n",
              "          }\n",
              "          quickchartButtonEl.classList.remove('colab-df-spinner');\n",
              "          quickchartButtonEl.classList.add('colab-df-quickchart-complete');\n",
              "        }\n",
              "        (() => {\n",
              "          let quickchartButtonEl =\n",
              "            document.querySelector('#df-f38b9d88-1692-4e4a-8704-0ebe47296533 button');\n",
              "          quickchartButtonEl.style.display =\n",
              "            google.colab.kernel.accessAllowed ? 'block' : 'none';\n",
              "        })();\n",
              "      </script>\n",
              "    </div>\n",
              "\n",
              "    </div>\n",
              "  </div>\n"
            ],
            "application/vnd.google.colaboratory.intrinsic+json": {
              "type": "dataframe",
              "summary": "{\n  \"name\": \"get_recommendations('Finance for Managers')\",\n  \"rows\": 5,\n  \"fields\": [\n    {\n      \"column\": \"Rekomendasi\",\n      \"properties\": {\n        \"dtype\": \"string\",\n        \"num_unique_values\": 5,\n        \"samples\": [\n          \"Fundamentals of financial and management accounting\",\n          \"Introduction to Finance  The Basics\",\n          \"Understanding Financial Statements  Company Position\"\n        ],\n        \"semantic_type\": \"\",\n        \"description\": \"\"\n      }\n    },\n    {\n      \"column\": \"Similarity\",\n      \"properties\": {\n        \"dtype\": \"number\",\n        \"std\": 0.02236144420666832,\n        \"min\": 0.35695590196333155,\n        \"max\": 0.41014354923395685,\n        \"num_unique_values\": 5,\n        \"samples\": [\n          0.379968658257772,\n          0.35695590196333155,\n          0.360709033111881\n        ],\n        \"semantic_type\": \"\",\n        \"description\": \"\"\n      }\n    }\n  ]\n}"
            }
          },
          "metadata": {},
          "execution_count": 30
        }
      ]
    },
    {
      "cell_type": "markdown",
      "source": [
        "Memberikan saran kursus yang relevan berdasarkan isi materi dan kesamaan fitur deskriptifnya, misalnya argumen `Finance for Managers`, yang berarti merekomendasikan kursus lain yang mirip dengan kursus berjudul `Finance for Managers`, berdasarkan kemiripan konten yang dihitung menggunakan cosine similarity,berdasarkan fitur gabungan di kolom `Final Col`"
      ],
      "metadata": {
        "id": "U_8LGjxkguZN"
      }
    },
    {
      "cell_type": "markdown",
      "source": [
        "## **Evaluation**"
      ],
      "metadata": {
        "id": "K4jGGJ-vVqX2"
      }
    },
    {
      "cell_type": "markdown",
      "source": [
        "**Metrik Evaluasi yang Digunakan**"
      ],
      "metadata": {
        "id": "hFgVSpQfSCfO"
      }
    },
    {
      "cell_type": "code",
      "source": [
        "def calculate_coverage(recommendation_func, all_titles):\n",
        "    recommended_items = set()\n",
        "\n",
        "    for title in all_titles:\n",
        "        try:\n",
        "            recs = recommendation_func(title)\n",
        "            recommended_items.update(recs['Rekomendasi'])\n",
        "        except:\n",
        "            continue\n",
        "\n",
        "    total_items = df['Course Name'].nunique()\n",
        "    coverage = len(recommended_items) / total_items\n",
        "    return coverage"
      ],
      "metadata": {
        "id": "IlDWqNRO1DJN"
      },
      "execution_count": 31,
      "outputs": []
    },
    {
      "cell_type": "markdown",
      "source": [
        "`Coverage` : Mengukur seberapa banyak item (kursus) dalam dataset yang muncul minimal satu kali dalam hasil rekomendasi. Sistem menghitung semua rekomendasi dari seluruh kursus, lalu menghitung proporsi kursus yang pernah direkomendasikan terhadap jumlah kursus total."
      ],
      "metadata": {
        "id": "gSMeqcJfUE6p"
      }
    },
    {
      "cell_type": "markdown",
      "source": [
        "**Berdasarkan Metrik Evaluasi**"
      ],
      "metadata": {
        "id": "YgN2_Xq8UOz9"
      }
    },
    {
      "cell_type": "code",
      "source": [
        "all_titles = df['Course Name'].unique()\n",
        "coverage_score = calculate_coverage(get_recommendations, all_titles)\n",
        "print(f\"Coverage: {coverage_score:.2%}\")"
      ],
      "metadata": {
        "colab": {
          "base_uri": "https://localhost:8080/"
        },
        "id": "1uEQiQAd1FgA",
        "outputId": "953deb2d-a168-4c76-af76-a9bd917f2994"
      },
      "execution_count": 32,
      "outputs": [
        {
          "output_type": "stream",
          "name": "stdout",
          "text": [
            "Coverage: 91.74%\n"
          ]
        }
      ]
    },
    {
      "cell_type": "markdown",
      "source": [
        "Sistem berhasil merekomendasikan sekitar `91.74%` dari seluruh kursus yang tersedia dalam dataset. Ini menunjukkan bahwa sistem memiliki jangkauan yang luas dalam memberikan rekomendasi dan tidak hanya fokus pada kursus tertentu saja."
      ],
      "metadata": {
        "id": "AmjJCHB7UUes"
      }
    },
    {
      "cell_type": "code",
      "source": [
        "def calculate_novelty(recommendation_func, all_titles, top_k=5):\n",
        "    # Hitung popularitas item berdasarkan berapa kali muncul di rekomendasi\n",
        "    recommended_items = []\n",
        "\n",
        "    for title in all_titles:\n",
        "        try:\n",
        "            recs = recommendation_func(title)\n",
        "            recommended_items.extend(recs['Rekomendasi'].values[:top_k])\n",
        "        except:\n",
        "            continue\n",
        "\n",
        "    # Hitung popularitas: jumlah kemunculan / total rekomendasi\n",
        "    item_counts = Counter(recommended_items)\n",
        "    total_recs = sum(item_counts.values())\n",
        "    novelty_scores = []\n",
        "\n",
        "    for item, count in item_counts.items():\n",
        "        popularity = count / total_recs\n",
        "        novelty = np.log2(1 / popularity)\n",
        "        novelty_scores.append(novelty)\n",
        "\n",
        "    # Ambil rata-ratanya\n",
        "    avg_novelty = np.mean(novelty_scores)\n",
        "    return avg_novelty"
      ],
      "metadata": {
        "id": "iyu6mztq1Hep"
      },
      "execution_count": 33,
      "outputs": []
    },
    {
      "cell_type": "markdown",
      "source": [
        "`Novelty` : Mengukur sejauh mana rekomendasi yang diberikan bersifat baru atau tidak populer. Sistem menghitung frekuensi kemunculan tiap kursus dalam semua hasil rekomendasi. Semakin jarang muncul, semakin tinggi skor novelty-nya."
      ],
      "metadata": {
        "id": "QGu0hQDiUifG"
      }
    },
    {
      "cell_type": "code",
      "source": [
        "novelty_score = calculate_novelty(get_recommendations, df['Course Name'].unique())\n",
        "print(f\"Novelty Score: {novelty_score:.4f}\")"
      ],
      "metadata": {
        "colab": {
          "base_uri": "https://localhost:8080/"
        },
        "id": "ox7-5KEc1V9I",
        "outputId": "eda051c7-c9a6-41a4-b27f-feadfd2bb7e7"
      },
      "execution_count": 34,
      "outputs": [
        {
          "output_type": "stream",
          "name": "stdout",
          "text": [
            "Novelty Score: 12.0319\n"
          ]
        }
      ]
    },
    {
      "cell_type": "markdown",
      "source": [
        "Skor ini menunjukkan bahwa sistem memberikan rekomendasi yang tergolong tidak populer atau belum umum, yang artinya sistem mendorong pengguna untuk menemukan kursus baru yang mungkin belum dikenal sebelumnya."
      ],
      "metadata": {
        "id": "vLnBBAK8Unly"
      }
    }
  ]
}